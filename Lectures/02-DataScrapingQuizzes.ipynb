{
 "cells": [
  {
   "cell_type": "code",
   "execution_count": 242,
   "metadata": {
    "collapsed": false,
    "slideshow": {
     "slide_type": "skip"
    }
   },
   "outputs": [],
   "source": [
    "## all imports\n",
    "from IPython.display import HTML\n",
    "import numpy as np\n",
    "import urllib2\n",
    "import bs4 #this is beautiful soup\n",
    "import time\n",
    "import operator\n",
    "import socket\n",
    "import cPickle\n",
    "import re # regular expressions\n",
    "\n",
    "from pandas import Series\n",
    "import pandas as pd\n",
    "from pandas import DataFrame\n",
    "\n",
    "import matplotlib\n",
    "import matplotlib.pyplot as plt\n",
    "%matplotlib inline\n",
    "\n",
    "import seaborn as sns\n",
    "sns.set_context(\"talk\")\n",
    "sns.set_style(\"white\")"
   ]
  },
  {
   "cell_type": "markdown",
   "metadata": {
    "slideshow": {
     "slide_type": "skip"
    }
   },
   "source": [
    "API registrations\n",
    "=================\n",
    "\n",
    "If you would like to run all the examples in this notebook, you need to register for the following APIs:\n",
    "\n",
    "* Rotten Tomatoes\n",
    "\n",
    "http://developer.rottentomatoes.com/member/register\n",
    "\n",
    "* Twitter\n",
    "\n",
    "https://apps.twitter.com/app/new\n",
    "\n",
    "* Twitter instructions\n",
    "\n",
    "https://twittercommunity.com/t/how-to-get-my-api-key/7033"
   ]
  },
  {
   "cell_type": "markdown",
   "metadata": {
    "slideshow": {
     "slide_type": "slide"
    }
   },
   "source": [
    "CS109\n",
    "=====\n",
    "\n",
    "Verena Kaynig-Fittkau, Joe Blitzstein, Hanspeter Pfister\n",
    "\n",
    "* vkaynig@seas.harvard.edu\n",
    "* staff@cs109.org"
   ]
  },
  {
   "cell_type": "markdown",
   "metadata": {
    "slideshow": {
     "slide_type": "slide"
    }
   },
   "source": [
    "Announcements\n",
    "==============\n",
    "\n",
    "Nothing at the moment"
   ]
  },
  {
   "cell_type": "markdown",
   "metadata": {
    "slideshow": {
     "slide_type": "slide"
    }
   },
   "source": [
    "Todays lecture:\n",
    "===============\n",
    "\n",
    "* introduction to pandas\n",
    "    - read a table\n",
    "    - do some plots\n",
    "\n",
    "* all about data scraping\n",
    "* ***What is it? ***\n",
    "* How to do it:\n",
    "    - from a website\n",
    "    - with an API"
   ]
  },
  {
   "cell_type": "markdown",
   "metadata": {
    "slideshow": {
     "slide_type": "slide"
    }
   },
   "source": [
    "IPython Notebooks:\n",
    "===================\n",
    "\n",
    "![IPython](images/ipython.png \"IPython\")"
   ]
  },
  {
   "cell_type": "markdown",
   "metadata": {
    "collapsed": true,
    "slideshow": {
     "slide_type": "slide"
    }
   },
   "source": [
    "IPython Notebooks:\n",
    "===================\n",
    "\n",
    "* These slides are an IPython notebook!\n",
    "* https://github.com/damianavila/live_reveal"
   ]
  },
  {
   "cell_type": "code",
   "execution_count": 243,
   "metadata": {
    "collapsed": false
   },
   "outputs": [
    {
     "name": "stdout",
     "output_type": "stream",
     "text": [
      "Hello CS109\n",
      "I love IPython\n"
     ]
    }
   ],
   "source": [
    "print \"Hello CS109\"\n",
    "\n",
    "print \"I love IPython\"\n",
    "\n",
    "# Ipython notebook have tab completion!\n",
    "# and inbuild help\n",
    "  \n",
    "a = np.zeros(3)\n"
   ]
  },
  {
   "cell_type": "markdown",
   "metadata": {
    "slideshow": {
     "slide_type": "slide"
    }
   },
   "source": [
    "General advice about programming\n",
    "==================================\n",
    "\n",
    "* You will find nearly everything on google\n",
    "* Try: length of a list in python\n",
    "* A programmer is someone who can turn stack overflow snippets into running code\n",
    "* Use tab completion\n",
    "* Make your variable names meaningful\n"
   ]
  },
  {
   "cell_type": "markdown",
   "metadata": {
    "slideshow": {
     "slide_type": "slide"
    }
   },
   "source": [
    "How to load a table\n",
    "===================\n",
    "\n",
    "* we use Pandas for this\n",
    "* Pandas can do a __lot__ more\n",
    "* more about it later"
   ]
  },
  {
   "cell_type": "markdown",
   "metadata": {
    "slideshow": {
     "slide_type": "slide"
    }
   },
   "source": [
    "The MovieLens data\n",
    "===================\n",
    "\n",
    "http://grouplens.org/datasets/movielens/\n",
    "\n",
    "![Grouplens](images/grouplens.jpg \"Grouplens\")\n",
    "\n",
    "Example inspired by [Greg Reda](http://www.gregreda.com/2013/10/26/using-pandas-on-the-movielens-dataset/)"
   ]
  },
  {
   "cell_type": "markdown",
   "metadata": {
    "slideshow": {
     "slide_type": "slide"
    }
   },
   "source": [
    "Read the user data\n",
    "=================="
   ]
  },
  {
   "cell_type": "code",
   "execution_count": 244,
   "metadata": {
    "collapsed": false,
    "slideshow": {
     "slide_type": "-"
    }
   },
   "outputs": [
    {
     "data": {
      "text/html": [
       "<div>\n",
       "<table border=\"1\" class=\"dataframe\">\n",
       "  <thead>\n",
       "    <tr style=\"text-align: right;\">\n",
       "      <th></th>\n",
       "      <th>user_id</th>\n",
       "      <th>age</th>\n",
       "      <th>sex</th>\n",
       "      <th>occupation</th>\n",
       "      <th>zip_code</th>\n",
       "    </tr>\n",
       "  </thead>\n",
       "  <tbody>\n",
       "    <tr>\n",
       "      <th>0</th>\n",
       "      <td>1</td>\n",
       "      <td>24</td>\n",
       "      <td>M</td>\n",
       "      <td>technician</td>\n",
       "      <td>85711</td>\n",
       "    </tr>\n",
       "    <tr>\n",
       "      <th>1</th>\n",
       "      <td>2</td>\n",
       "      <td>53</td>\n",
       "      <td>F</td>\n",
       "      <td>other</td>\n",
       "      <td>94043</td>\n",
       "    </tr>\n",
       "    <tr>\n",
       "      <th>2</th>\n",
       "      <td>3</td>\n",
       "      <td>23</td>\n",
       "      <td>M</td>\n",
       "      <td>writer</td>\n",
       "      <td>32067</td>\n",
       "    </tr>\n",
       "    <tr>\n",
       "      <th>3</th>\n",
       "      <td>4</td>\n",
       "      <td>24</td>\n",
       "      <td>M</td>\n",
       "      <td>technician</td>\n",
       "      <td>43537</td>\n",
       "    </tr>\n",
       "    <tr>\n",
       "      <th>4</th>\n",
       "      <td>5</td>\n",
       "      <td>33</td>\n",
       "      <td>F</td>\n",
       "      <td>other</td>\n",
       "      <td>15213</td>\n",
       "    </tr>\n",
       "  </tbody>\n",
       "</table>\n",
       "</div>"
      ],
      "text/plain": [
       "   user_id  age sex  occupation zip_code\n",
       "0        1   24   M  technician    85711\n",
       "1        2   53   F       other    94043\n",
       "2        3   23   M      writer    32067\n",
       "3        4   24   M  technician    43537\n",
       "4        5   33   F       other    15213"
      ]
     },
     "execution_count": 244,
     "metadata": {},
     "output_type": "execute_result"
    }
   ],
   "source": [
    "# pass in column names for each CSV\n",
    "u_cols = ['user_id', 'age', 'sex', 'occupation', 'zip_code']\n",
    "\n",
    "users = pd.read_csv(\n",
    "    'http://files.grouplens.org/datasets/movielens/ml-100k/u.user', \n",
    "    sep='|', names=u_cols)\n",
    "\n",
    "users.head()"
   ]
  },
  {
   "cell_type": "markdown",
   "metadata": {
    "slideshow": {
     "slide_type": "slide"
    }
   },
   "source": [
    "Read the ratings\n",
    "============"
   ]
  },
  {
   "cell_type": "code",
   "execution_count": 245,
   "metadata": {
    "collapsed": false
   },
   "outputs": [
    {
     "data": {
      "text/html": [
       "<div>\n",
       "<table border=\"1\" class=\"dataframe\">\n",
       "  <thead>\n",
       "    <tr style=\"text-align: right;\">\n",
       "      <th></th>\n",
       "      <th>user_id</th>\n",
       "      <th>movie_id</th>\n",
       "      <th>rating</th>\n",
       "      <th>unix_timestamp</th>\n",
       "    </tr>\n",
       "  </thead>\n",
       "  <tbody>\n",
       "    <tr>\n",
       "      <th>0</th>\n",
       "      <td>196</td>\n",
       "      <td>242</td>\n",
       "      <td>3</td>\n",
       "      <td>881250949</td>\n",
       "    </tr>\n",
       "    <tr>\n",
       "      <th>1</th>\n",
       "      <td>186</td>\n",
       "      <td>302</td>\n",
       "      <td>3</td>\n",
       "      <td>891717742</td>\n",
       "    </tr>\n",
       "    <tr>\n",
       "      <th>2</th>\n",
       "      <td>22</td>\n",
       "      <td>377</td>\n",
       "      <td>1</td>\n",
       "      <td>878887116</td>\n",
       "    </tr>\n",
       "    <tr>\n",
       "      <th>3</th>\n",
       "      <td>244</td>\n",
       "      <td>51</td>\n",
       "      <td>2</td>\n",
       "      <td>880606923</td>\n",
       "    </tr>\n",
       "    <tr>\n",
       "      <th>4</th>\n",
       "      <td>166</td>\n",
       "      <td>346</td>\n",
       "      <td>1</td>\n",
       "      <td>886397596</td>\n",
       "    </tr>\n",
       "  </tbody>\n",
       "</table>\n",
       "</div>"
      ],
      "text/plain": [
       "   user_id  movie_id  rating  unix_timestamp\n",
       "0      196       242       3       881250949\n",
       "1      186       302       3       891717742\n",
       "2       22       377       1       878887116\n",
       "3      244        51       2       880606923\n",
       "4      166       346       1       886397596"
      ]
     },
     "execution_count": 245,
     "metadata": {},
     "output_type": "execute_result"
    }
   ],
   "source": [
    "r_cols = ['user_id', 'movie_id', 'rating', 'unix_timestamp']\n",
    "ratings = pd.read_csv(\n",
    "    'http://files.grouplens.org/datasets/movielens/ml-100k/u.data', \n",
    "    sep='\\t', names=r_cols)\n",
    "\n",
    "ratings.head() "
   ]
  },
  {
   "cell_type": "markdown",
   "metadata": {
    "slideshow": {
     "slide_type": "slide"
    }
   },
   "source": [
    "Now data about the movies\n",
    "========================="
   ]
  },
  {
   "cell_type": "code",
   "execution_count": 246,
   "metadata": {
    "collapsed": false
   },
   "outputs": [
    {
     "data": {
      "text/html": [
       "<div>\n",
       "<table border=\"1\" class=\"dataframe\">\n",
       "  <thead>\n",
       "    <tr style=\"text-align: right;\">\n",
       "      <th></th>\n",
       "      <th>movie_id</th>\n",
       "      <th>title</th>\n",
       "      <th>release_date</th>\n",
       "      <th>video_release_date</th>\n",
       "      <th>imdb_url</th>\n",
       "    </tr>\n",
       "  </thead>\n",
       "  <tbody>\n",
       "    <tr>\n",
       "      <th>0</th>\n",
       "      <td>1</td>\n",
       "      <td>Toy Story (1995)</td>\n",
       "      <td>01-Jan-1995</td>\n",
       "      <td>NaN</td>\n",
       "      <td>http://us.imdb.com/M/title-exact?Toy%20Story%2...</td>\n",
       "    </tr>\n",
       "    <tr>\n",
       "      <th>1</th>\n",
       "      <td>2</td>\n",
       "      <td>GoldenEye (1995)</td>\n",
       "      <td>01-Jan-1995</td>\n",
       "      <td>NaN</td>\n",
       "      <td>http://us.imdb.com/M/title-exact?GoldenEye%20(...</td>\n",
       "    </tr>\n",
       "    <tr>\n",
       "      <th>2</th>\n",
       "      <td>3</td>\n",
       "      <td>Four Rooms (1995)</td>\n",
       "      <td>01-Jan-1995</td>\n",
       "      <td>NaN</td>\n",
       "      <td>http://us.imdb.com/M/title-exact?Four%20Rooms%...</td>\n",
       "    </tr>\n",
       "    <tr>\n",
       "      <th>3</th>\n",
       "      <td>4</td>\n",
       "      <td>Get Shorty (1995)</td>\n",
       "      <td>01-Jan-1995</td>\n",
       "      <td>NaN</td>\n",
       "      <td>http://us.imdb.com/M/title-exact?Get%20Shorty%...</td>\n",
       "    </tr>\n",
       "    <tr>\n",
       "      <th>4</th>\n",
       "      <td>5</td>\n",
       "      <td>Copycat (1995)</td>\n",
       "      <td>01-Jan-1995</td>\n",
       "      <td>NaN</td>\n",
       "      <td>http://us.imdb.com/M/title-exact?Copycat%20(1995)</td>\n",
       "    </tr>\n",
       "  </tbody>\n",
       "</table>\n",
       "</div>"
      ],
      "text/plain": [
       "   movie_id              title release_date  video_release_date  \\\n",
       "0         1   Toy Story (1995)  01-Jan-1995                 NaN   \n",
       "1         2   GoldenEye (1995)  01-Jan-1995                 NaN   \n",
       "2         3  Four Rooms (1995)  01-Jan-1995                 NaN   \n",
       "3         4  Get Shorty (1995)  01-Jan-1995                 NaN   \n",
       "4         5     Copycat (1995)  01-Jan-1995                 NaN   \n",
       "\n",
       "                                            imdb_url  \n",
       "0  http://us.imdb.com/M/title-exact?Toy%20Story%2...  \n",
       "1  http://us.imdb.com/M/title-exact?GoldenEye%20(...  \n",
       "2  http://us.imdb.com/M/title-exact?Four%20Rooms%...  \n",
       "3  http://us.imdb.com/M/title-exact?Get%20Shorty%...  \n",
       "4  http://us.imdb.com/M/title-exact?Copycat%20(1995)  "
      ]
     },
     "execution_count": 246,
     "metadata": {},
     "output_type": "execute_result"
    }
   ],
   "source": [
    "# the movies file contains columns indicating the movie's genres\n",
    "# let's only load the first five columns of the file with usecols\n",
    "m_cols = ['movie_id', 'title', 'release_date', \n",
    "            'video_release_date', 'imdb_url']\n",
    "\n",
    "movies = pd.read_csv(\n",
    "    'http://files.grouplens.org/datasets/movielens/ml-100k/u.item', \n",
    "    sep='|', names=m_cols, usecols=range(5))\n",
    "\n",
    "movies.head()"
   ]
  },
  {
   "cell_type": "markdown",
   "metadata": {
    "slideshow": {
     "slide_type": "slide"
    }
   },
   "source": [
    "Get information about data\n",
    "======================="
   ]
  },
  {
   "cell_type": "code",
   "execution_count": 247,
   "metadata": {
    "collapsed": false
   },
   "outputs": [
    {
     "name": "stdout",
     "output_type": "stream",
     "text": [
      "movie_id                int64\n",
      "title                  object\n",
      "release_date           object\n",
      "video_release_date    float64\n",
      "imdb_url               object\n",
      "dtype: object\n",
      "\n",
      "          movie_id  video_release_date\n",
      "count  1682.000000                   0\n",
      "mean    841.500000                 NaN\n",
      "std     485.695893                 NaN\n",
      "min       1.000000                 NaN\n",
      "25%     421.250000                 NaN\n",
      "50%     841.500000                 NaN\n",
      "75%    1261.750000                 NaN\n",
      "max    1682.000000                 NaN\n"
     ]
    }
   ],
   "source": [
    "print movies.dtypes\n",
    "print\n",
    "print movies.describe()\n",
    "# *** Why only those two columns? ***"
   ]
  },
  {
   "cell_type": "markdown",
   "metadata": {
    "slideshow": {
     "slide_type": "slide"
    }
   },
   "source": [
    "Selecting data\n",
    "==============\n",
    "\n",
    "* DataFrame => group of Series with shared index\n",
    "* single DataFrame column => Series"
   ]
  },
  {
   "cell_type": "code",
   "execution_count": 248,
   "metadata": {
    "collapsed": false,
    "slideshow": {
     "slide_type": "slide"
    }
   },
   "outputs": [
    {
     "name": "stdout",
     "output_type": "stream",
     "text": [
      "   user_id  age sex  occupation zip_code\n",
      "0        1   24   M  technician    85711\n",
      "1        2   53   F       other    94043\n",
      "2        3   23   M      writer    32067\n",
      "3        4   24   M  technician    43537\n",
      "4        5   33   F       other    15213\n",
      "user_id                4\n",
      "age                   24\n",
      "sex                    M\n",
      "occupation    technician\n",
      "zip_code           43537\n",
      "Name: 3, dtype: object\n"
     ]
    }
   ],
   "source": [
    "users.head()\n",
    "users['occupation'].head()\n",
    "## *** Where did the nice design go? ***\n",
    "columns_you_want = ['occupation', 'sex'] \n",
    "users[columns_you_want].head()\n",
    "\n",
    "print users.head()\n",
    "\n",
    "print users.iloc[3]"
   ]
  },
  {
   "cell_type": "markdown",
   "metadata": {
    "slideshow": {
     "slide_type": "slide"
    }
   },
   "source": [
    "Filtering data\n",
    "==============\n",
    "\n",
    "Select users older than 25"
   ]
  },
  {
   "cell_type": "code",
   "execution_count": 249,
   "metadata": {
    "collapsed": false
   },
   "outputs": [
    {
     "data": {
      "text/html": [
       "<div>\n",
       "<table border=\"1\" class=\"dataframe\">\n",
       "  <thead>\n",
       "    <tr style=\"text-align: right;\">\n",
       "      <th></th>\n",
       "      <th>user_id</th>\n",
       "      <th>age</th>\n",
       "      <th>sex</th>\n",
       "      <th>occupation</th>\n",
       "      <th>zip_code</th>\n",
       "    </tr>\n",
       "  </thead>\n",
       "  <tbody>\n",
       "    <tr>\n",
       "      <th>1</th>\n",
       "      <td>2</td>\n",
       "      <td>53</td>\n",
       "      <td>F</td>\n",
       "      <td>other</td>\n",
       "      <td>94043</td>\n",
       "    </tr>\n",
       "    <tr>\n",
       "      <th>4</th>\n",
       "      <td>5</td>\n",
       "      <td>33</td>\n",
       "      <td>F</td>\n",
       "      <td>other</td>\n",
       "      <td>15213</td>\n",
       "    </tr>\n",
       "    <tr>\n",
       "      <th>5</th>\n",
       "      <td>6</td>\n",
       "      <td>42</td>\n",
       "      <td>M</td>\n",
       "      <td>executive</td>\n",
       "      <td>98101</td>\n",
       "    </tr>\n",
       "    <tr>\n",
       "      <th>6</th>\n",
       "      <td>7</td>\n",
       "      <td>57</td>\n",
       "      <td>M</td>\n",
       "      <td>administrator</td>\n",
       "      <td>91344</td>\n",
       "    </tr>\n",
       "    <tr>\n",
       "      <th>7</th>\n",
       "      <td>8</td>\n",
       "      <td>36</td>\n",
       "      <td>M</td>\n",
       "      <td>administrator</td>\n",
       "      <td>05201</td>\n",
       "    </tr>\n",
       "  </tbody>\n",
       "</table>\n",
       "</div>"
      ],
      "text/plain": [
       "   user_id  age sex     occupation zip_code\n",
       "1        2   53   F          other    94043\n",
       "4        5   33   F          other    15213\n",
       "5        6   42   M      executive    98101\n",
       "6        7   57   M  administrator    91344\n",
       "7        8   36   M  administrator    05201"
      ]
     },
     "execution_count": 249,
     "metadata": {},
     "output_type": "execute_result"
    }
   ],
   "source": [
    "oldUsers = users[users.age > 25]\n",
    "oldUsers.head()"
   ]
  },
  {
   "cell_type": "markdown",
   "metadata": {
    "slideshow": {
     "slide_type": "slide"
    }
   },
   "source": [
    "Quiz:\n",
    "=====\n",
    "\n",
    "* show users aged 40 and male\n",
    "\n",
    "* show the mean age of female programmers"
   ]
  },
  {
   "cell_type": "code",
   "execution_count": 250,
   "metadata": {
    "collapsed": false,
    "slideshow": {
     "slide_type": "slide"
    }
   },
   "outputs": [
    {
     "data": {
      "text/html": [
       "<div>\n",
       "<table border=\"1\" class=\"dataframe\">\n",
       "  <thead>\n",
       "    <tr style=\"text-align: right;\">\n",
       "      <th></th>\n",
       "      <th>user_id</th>\n",
       "      <th>age</th>\n",
       "      <th>sex</th>\n",
       "      <th>occupation</th>\n",
       "      <th>zip_code</th>\n",
       "    </tr>\n",
       "  </thead>\n",
       "  <tbody>\n",
       "    <tr>\n",
       "      <th>18</th>\n",
       "      <td>19</td>\n",
       "      <td>40</td>\n",
       "      <td>M</td>\n",
       "      <td>librarian</td>\n",
       "      <td>02138</td>\n",
       "    </tr>\n",
       "    <tr>\n",
       "      <th>82</th>\n",
       "      <td>83</td>\n",
       "      <td>40</td>\n",
       "      <td>M</td>\n",
       "      <td>other</td>\n",
       "      <td>44133</td>\n",
       "    </tr>\n",
       "    <tr>\n",
       "      <th>115</th>\n",
       "      <td>116</td>\n",
       "      <td>40</td>\n",
       "      <td>M</td>\n",
       "      <td>healthcare</td>\n",
       "      <td>97232</td>\n",
       "    </tr>\n",
       "    <tr>\n",
       "      <th>199</th>\n",
       "      <td>200</td>\n",
       "      <td>40</td>\n",
       "      <td>M</td>\n",
       "      <td>programmer</td>\n",
       "      <td>93402</td>\n",
       "    </tr>\n",
       "    <tr>\n",
       "      <th>283</th>\n",
       "      <td>284</td>\n",
       "      <td>40</td>\n",
       "      <td>M</td>\n",
       "      <td>executive</td>\n",
       "      <td>92629</td>\n",
       "    </tr>\n",
       "  </tbody>\n",
       "</table>\n",
       "</div>"
      ],
      "text/plain": [
       "     user_id  age sex  occupation zip_code\n",
       "18        19   40   M   librarian    02138\n",
       "82        83   40   M       other    44133\n",
       "115      116   40   M  healthcare    97232\n",
       "199      200   40   M  programmer    93402\n",
       "283      284   40   M   executive    92629"
      ]
     },
     "execution_count": 250,
     "metadata": {},
     "output_type": "execute_result"
    }
   ],
   "source": [
    "# users aged 40 AND male\n",
    "# your code here\n",
    "\n",
    "criteria = (users.age == 40) & (users.sex == 'M')\n",
    "male_40 = users[criteria]\n",
    "male_40.head()"
   ]
  },
  {
   "cell_type": "code",
   "execution_count": 251,
   "metadata": {
    "collapsed": false,
    "slideshow": {
     "slide_type": "slide"
    }
   },
   "outputs": [
    {
     "name": "stdout",
     "output_type": "stream",
     "text": [
      "['technician' 'other' 'writer' 'executive' 'administrator' 'student'\n",
      " 'lawyer' 'educator' 'scientist' 'entertainment' 'programmer' 'librarian'\n",
      " 'homemaker' 'artist' 'engineer' 'marketing' 'none' 'healthcare' 'retired'\n",
      " 'salesman' 'doctor'] \n",
      "\n",
      "     user_id  age sex  occupation zip_code\n",
      "291      292   35   F  programmer    94703\n",
      "299      300   26   F  programmer    55106\n",
      "351      352   37   F  programmer    55105\n",
      "403      404   29   F  programmer    55108\n",
      "420      421   38   F  programmer    55105 \n",
      "\n",
      "Mean age of female programmers is 32.2\n"
     ]
    }
   ],
   "source": [
    "## users who are female and programmers\n",
    "# your code here\n",
    "print users.occupation.unique(), '\\n'\n",
    "\n",
    "criteria = (users.sex == 'F') & (users.occupation == 'programmer')\n",
    "female_programmers = users[criteria]\n",
    "\n",
    "print female_programmers.head(), '\\n'\n",
    "## show statistic summary or compute mean\n",
    "# your code here\n",
    "\n",
    "print \"Mean age of female programmers is {:.1f}\".format(female_programmers.age.mean())"
   ]
  },
  {
   "cell_type": "markdown",
   "metadata": {
    "slideshow": {
     "slide_type": "slide"
    }
   },
   "source": [
    "Split-apply-combine\n",
    "===================\n",
    "\n",
    "* splitting the data into groups based on some criteria\n",
    "* applying a function to each group independently\n",
    "* combining the results into a data structure"
   ]
  },
  {
   "cell_type": "markdown",
   "metadata": {
    "slideshow": {
     "slide_type": "slide"
    }
   },
   "source": [
    "Split-apply-combine\n",
    "===================\n",
    "\n",
    "<img src=http://i.imgur.com/yjNkiwL.png></img>"
   ]
  },
  {
   "cell_type": "markdown",
   "metadata": {
    "slideshow": {
     "slide_type": "slide"
    }
   },
   "source": [
    "Find Diligent Users\n",
    "===================\n",
    "\n",
    "* split data per user ID\n",
    "* count ratings\n",
    "* combine result"
   ]
  },
  {
   "cell_type": "code",
   "execution_count": 252,
   "metadata": {
    "collapsed": false,
    "slideshow": {
     "slide_type": "slide"
    }
   },
   "outputs": [
    {
     "name": "stdout",
     "output_type": "stream",
     "text": [
      "   user_id  movie_id  rating  unix_timestamp\n",
      "0      196       242       3       881250949\n",
      "1      186       302       3       891717742\n",
      "2       22       377       1       878887116\n",
      "3      244        51       2       880606923\n",
      "4      166       346       1       886397596\n"
     ]
    },
    {
     "data": {
      "text/html": [
       "<div>\n",
       "<table border=\"1\" class=\"dataframe\">\n",
       "  <thead>\n",
       "    <tr style=\"text-align: right;\">\n",
       "      <th></th>\n",
       "      <th>movie_id</th>\n",
       "      <th>rating</th>\n",
       "      <th>unix_timestamp</th>\n",
       "    </tr>\n",
       "    <tr>\n",
       "      <th>user_id</th>\n",
       "      <th></th>\n",
       "      <th></th>\n",
       "      <th></th>\n",
       "    </tr>\n",
       "  </thead>\n",
       "  <tbody>\n",
       "    <tr>\n",
       "      <th>1</th>\n",
       "      <td>272</td>\n",
       "      <td>272</td>\n",
       "      <td>272</td>\n",
       "    </tr>\n",
       "    <tr>\n",
       "      <th>2</th>\n",
       "      <td>62</td>\n",
       "      <td>62</td>\n",
       "      <td>62</td>\n",
       "    </tr>\n",
       "    <tr>\n",
       "      <th>3</th>\n",
       "      <td>54</td>\n",
       "      <td>54</td>\n",
       "      <td>54</td>\n",
       "    </tr>\n",
       "    <tr>\n",
       "      <th>4</th>\n",
       "      <td>24</td>\n",
       "      <td>24</td>\n",
       "      <td>24</td>\n",
       "    </tr>\n",
       "    <tr>\n",
       "      <th>5</th>\n",
       "      <td>175</td>\n",
       "      <td>175</td>\n",
       "      <td>175</td>\n",
       "    </tr>\n",
       "  </tbody>\n",
       "</table>\n",
       "</div>"
      ],
      "text/plain": [
       "         movie_id  rating  unix_timestamp\n",
       "user_id                                  \n",
       "1             272     272             272\n",
       "2              62      62              62\n",
       "3              54      54              54\n",
       "4              24      24              24\n",
       "5             175     175             175"
      ]
     },
     "execution_count": 252,
     "metadata": {},
     "output_type": "execute_result"
    }
   ],
   "source": [
    "print ratings.head()\n",
    "## split data\n",
    "#grouped_data = ratings.groupby('user_id')\n",
    "grouped_data = ratings.groupby(ratings['user_id'])\n",
    "\n",
    "## count and combine\n",
    "ratings_per_user = grouped_data.count()\n",
    "\n",
    "ratings_per_user.head(5)"
   ]
  },
  {
   "cell_type": "markdown",
   "metadata": {
    "slideshow": {
     "slide_type": "slide"
    }
   },
   "source": [
    "Quiz\n",
    "====\n",
    "\n",
    "* get the average rating per movie\n",
    "* advanced: get the movie titles with the highest average rating"
   ]
  },
  {
   "cell_type": "code",
   "execution_count": 253,
   "metadata": {
    "collapsed": false,
    "slideshow": {
     "slide_type": "slide"
    }
   },
   "outputs": [
    {
     "name": "stdout",
     "output_type": "stream",
     "text": [
      "movie_id\n",
      "1    3.878319\n",
      "2    3.206107\n",
      "3    3.033333\n",
      "4    3.550239\n",
      "5    3.302326\n",
      "Name: rating, dtype: float64\n",
      "Int64Index([814, 1122, 1189, 1201, 1293, 1467, 1500, 1536, 1599, 1653], dtype='int64', name=u'movie_id')\n"
     ]
    }
   ],
   "source": [
    "## split data\n",
    "# your code here\n",
    "grouped_data_2 = ratings.groupby(ratings['movie_id'])\n",
    "\n",
    "## average and combine\n",
    "# your code here\n",
    "ratings_per_movie = grouped_data_2['rating'].mean()\n",
    "print ratings_per_movie.head()\n",
    "\n",
    "# get the maximum rating\n",
    "# your code here\n",
    "max_rating = ratings_per_movie.max()\n",
    "\n",
    "# get movie ids with that rating\n",
    "# your code here\n",
    "mov_id = ratings_per_movie[ratings_per_movie == max_rating].index\n",
    "print mov_id\n"
   ]
  },
  {
   "cell_type": "code",
   "execution_count": 254,
   "metadata": {
    "collapsed": false,
    "slideshow": {
     "slide_type": "slide"
    }
   },
   "outputs": [
    {
     "name": "stdout",
     "output_type": "stream",
     "text": [
      "Good movie ids:\n",
      "Int64Index([814, 1122, 1189, 1201, 1293, 1467, 1500, 1536, 1599, 1653], dtype='int64', name=u'movie_id')\n",
      "\n",
      "Best movie titles\n",
      "movie_id\n",
      "813                         Great Day in Harlem, A (1994)\n",
      "1121                       They Made Me a Criminal (1939)\n",
      "1188                                   Prefontaine (1997)\n",
      "1200           Marlene Dietrich: Shadow and Light (1996) \n",
      "1292                                      Star Kid (1997)\n",
      "1466                 Saint of Fort Washington, The (1993)\n",
      "1499                            Santa with Muscles (1996)\n",
      "1535                                 Aiqing wansui (1994)\n",
      "1598                        Someone Else's America (1995)\n",
      "1652    Entertaining Angels: The Dorothy Day Story (1996)\n",
      "Name: title, dtype: object \n",
      "\n",
      "Best movie titles\n",
      "813                         Great Day in Harlem, A (1994)\n",
      "1121                       They Made Me a Criminal (1939)\n",
      "1188                                   Prefontaine (1997)\n",
      "1200           Marlene Dietrich: Shadow and Light (1996) \n",
      "1292                                      Star Kid (1997)\n",
      "1466                 Saint of Fort Washington, The (1993)\n",
      "1499                            Santa with Muscles (1996)\n",
      "1535                                 Aiqing wansui (1994)\n",
      "1598                        Someone Else's America (1995)\n",
      "1652    Entertaining Angels: The Dorothy Day Story (1996)\n",
      "Name: title, dtype: object\n"
     ]
    }
   ],
   "source": [
    "print \"Good movie ids:\"\n",
    "print mov_id\n",
    "print\n",
    "\n",
    "print \"Best movie titles\"\n",
    "print movies.title[mov_id-1], '\\n'\n",
    "\n",
    "print \"Best movie titles\"\n",
    "print movies[movies.movie_id.isin(mov_id)].title"
   ]
  },
  {
   "cell_type": "code",
   "execution_count": 255,
   "metadata": {
    "collapsed": false,
    "slideshow": {
     "slide_type": "slide"
    }
   },
   "outputs": [
    {
     "name": "stdout",
     "output_type": "stream",
     "text": [
      "Number of ratings per movie\n",
      "1,1,3,1,3,2,2,1,1,1\n"
     ]
    }
   ],
   "source": [
    "# get number of ratings per movie\n",
    "# your code here\n",
    "noOfRatings = grouped_data_2['rating'].count()\n",
    "\n",
    "print \"Number of ratings per movie\"\n",
    "print \",\".join(noOfRatings[mov_id].values.astype('string'))"
   ]
  },
  {
   "cell_type": "markdown",
   "metadata": {
    "slideshow": {
     "slide_type": "slide"
    }
   },
   "source": [
    "Passing a Function\n",
    "==================\n"
   ]
  },
  {
   "cell_type": "markdown",
   "metadata": {
    "slideshow": {
     "slide_type": "slide"
    }
   },
   "source": [
    "Quiz\n",
    "====\n",
    "\n",
    "* get the average rating per user\n",
    "* advanced: list all occupations and if they are male or female dominant"
   ]
  },
  {
   "cell_type": "code",
   "execution_count": 256,
   "metadata": {
    "collapsed": false,
    "slideshow": {
     "slide_type": "slide"
    }
   },
   "outputs": [
    {
     "name": "stdout",
     "output_type": "stream",
     "text": [
      "           movie_id    rating  unix_timestamp\n",
      "user_id                                      \n",
      "1        136.500000  3.610294    8.773916e+08\n",
      "2        249.500000  3.709677    8.886204e+08\n",
      "3        318.814815  2.796296    8.892372e+08\n",
      "4        291.041667  4.333333    8.920028e+08\n",
      "5        291.291429  2.874286    8.762081e+08 \n",
      "\n",
      "Average rating per user is 3.6\n"
     ]
    }
   ],
   "source": [
    "# get the average rating per user\n",
    "# your code here\n",
    "average_ratings = grouped_data.apply(lambda f: f.mean())\n",
    "print average_ratings.head(5), '\\n'\n",
    "print \"Average rating per user is {:.1f}\".format(average_ratings.rating.mean())"
   ]
  },
  {
   "cell_type": "code",
   "execution_count": 257,
   "metadata": {
    "collapsed": false,
    "slideshow": {
     "slide_type": "slide"
    }
   },
   "outputs": [
    {
     "name": "stdout",
     "output_type": "stream",
     "text": [
      "occupation\n",
      "administrator     True\n",
      "artist            True\n",
      "doctor            True\n",
      "educator          True\n",
      "engineer          True\n",
      "entertainment     True\n",
      "executive         True\n",
      "healthcare       False\n",
      "homemaker        False\n",
      "lawyer            True\n",
      "librarian        False\n",
      "marketing         True\n",
      "none              True\n",
      "other             True\n",
      "programmer        True\n",
      "retired           True\n",
      "salesman          True\n",
      "scientist         True\n",
      "student           True\n",
      "technician        True\n",
      "writer            True\n",
      "Name: sex, dtype: bool \n",
      "\n",
      "male dominated jobs include administrator,artist,doctor,educator,engineer,entertainment,executive,lawyer,marketing,none,other,programmer,retired,salesman,scientist,student,technician,writer\n"
     ]
    }
   ],
   "source": [
    "# list all occupations and if they are male or female dominant\n",
    "# your code here\n",
    "\n",
    "users_by_occup = users.groupby(\"occupation\")\n",
    "male_dom_occup = users_by_occup.sex.apply(lambda f: sum(f == 'M') > sum(f == 'F'))\n",
    "print male_dom_occup, '\\n'\n",
    "\n",
    "print \"male dominated jobs include\", \",\".join(male_dom_occup.index[male_dom_occup.values])"
   ]
  },
  {
   "cell_type": "code",
   "execution_count": 258,
   "metadata": {
    "collapsed": false,
    "slideshow": {
     "slide_type": "slide"
    }
   },
   "outputs": [
    {
     "name": "stdout",
     "output_type": "stream",
     "text": [
      "number of male users: \n",
      "670\n",
      "number of female users: \n",
      "273\n"
     ]
    }
   ],
   "source": [
    "print 'number of male users: '\n",
    "print sum(users['sex'] == 'M')\n",
    "\n",
    "print 'number of female users: '\n",
    "print sum(users['sex'] == 'F')"
   ]
  },
  {
   "cell_type": "markdown",
   "metadata": {
    "slideshow": {
     "slide_type": "slide"
    }
   },
   "source": [
    "Pandas \"wrapup\"\n",
    "==========\n",
    "\n",
    "- create data frames\n",
    "- get sub-frames\n",
    "- filter data \n",
    "- use group-by\n",
    "- apply a user defined function\n",
    "\n",
    "\n",
    "![cute panda](images/cute_panda.jpg)"
   ]
  },
  {
   "cell_type": "markdown",
   "metadata": {
    "slideshow": {
     "slide_type": "slide"
    }
   },
   "source": [
    "Python data scraping\n",
    "====================\n",
    "\n",
    "* Why scrape the web?\n",
    "    - vast source of information\n",
    "    - automate tasks\n",
    "    - keep up with sites\n",
    "    - fun!\n",
    "\n",
    "** Can you think of examples ? **"
   ]
  },
  {
   "cell_type": "markdown",
   "metadata": {
    "slideshow": {
     "slide_type": "slide"
    }
   },
   "source": [
    "Read and Tweet!\n",
    "=================\n",
    "\n",
    "![ReadTweet](http://developer.nytimes.com/files/readtweet.jpg)\n",
    "\n",
    "* by Justin Blinder\n",
    "* http://projects.justinblinder.com/We-Read-We-Tweet"
   ]
  },
  {
   "cell_type": "markdown",
   "metadata": {
    "slideshow": {
     "slide_type": "skip"
    }
   },
   "source": [
    "“We Read, We Tweet” geographically visualizes the dissemination of New York Times articles through Twitter. Each line connects the location of a tweet to the contextual location of the New York Times article it referenced. The lines are generated in a sequence based on the time in which a tweet occurs. The project explores digital news distribution in a temporal and spatial context through the social space of Twitter."
   ]
  },
  {
   "cell_type": "markdown",
   "metadata": {
    "slideshow": {
     "slide_type": "slide"
    }
   },
   "source": [
    "Twitter Sentiments\n",
    "=================\n",
    "\n",
    "![TwitterSentiments](http://www.csc.ncsu.edu/faculty/healey/tweet_viz/figs/tweet-viz-ex.png\n",
    " \"Twitter Sentiments\")\n",
    "\n",
    "* by Healey and Ramaswamy\n",
    "* http://www.csc.ncsu.edu/faculty/healey/tweet_viz/tweet_app/"
   ]
  },
  {
   "cell_type": "markdown",
   "metadata": {
    "slideshow": {
     "slide_type": "skip"
    }
   },
   "source": [
    "Type a keyword into the input field, then click the Query button. Recent tweets that contain your keyword are pulled from Twitter and visualized in the Sentiment tab as circles. Hover your mouse over a tweet or click on it to see its text."
   ]
  },
  {
   "cell_type": "markdown",
   "metadata": {
    "slideshow": {
     "slide_type": "slide"
    }
   },
   "source": [
    "Python data scraping\n",
    "====================\n",
    "\n",
    "* copyrights and permission:\n",
    "    - be careful and polite\n",
    "    - give credit\n",
    "    - care about media law\n",
    "    - don't be evil (no spam, overloading sites, etc.)"
   ]
  },
  {
   "cell_type": "markdown",
   "metadata": {
    "slideshow": {
     "slide_type": "slide"
    }
   },
   "source": [
    "Robots.txt\n",
    "==========\n",
    "\n",
    "![Robots.txt](images/robots_txt.jpg \"Robots.txt\")"
   ]
  },
  {
   "cell_type": "markdown",
   "metadata": {
    "slideshow": {
     "slide_type": "slide"
    }
   },
   "source": [
    "Robots.txt\n",
    "==========\n",
    "\n",
    "* specified by web site owner\n",
    "* gives instructions to web robots (aka your script)\n",
    "* is located at the top-level directory of the web server\n",
    "\n",
    "http://www.example.com/robots.txt\n",
    "\n",
    "If you want you can also have a look at\n",
    "\n",
    "http://google.com/robots.txt"
   ]
  },
  {
   "cell_type": "markdown",
   "metadata": {
    "slideshow": {
     "slide_type": "slide"
    }
   },
   "source": [
    "Robots.txt\n",
    "==========\n",
    "\n",
    "*** What does this one do? ***"
   ]
  },
  {
   "cell_type": "raw",
   "metadata": {},
   "source": [
    "\n",
    "User-agent: Google\n",
    "Disallow:\n",
    "\n",
    "User-agent: *\n",
    "Disallow: /"
   ]
  },
  {
   "cell_type": "markdown",
   "metadata": {
    "slideshow": {
     "slide_type": "slide"
    }
   },
   "source": [
    "Things to consider:\n",
    "-------------------\n",
    "\n",
    "* can be just ignored\n",
    "* can be a security risk - *** Why? ***"
   ]
  },
  {
   "cell_type": "markdown",
   "metadata": {
    "slideshow": {
     "slide_type": "slide"
    }
   },
   "source": [
    "Scraping with Python:\n",
    "=====================\n",
    "\n",
    "* scraping is all about HTML tags\n",
    "* bad news: \n",
    "    - need to learn about tags\n",
    "    - websites can be ugly"
   ]
  },
  {
   "cell_type": "markdown",
   "metadata": {
    "slideshow": {
     "slide_type": "slide"
    }
   },
   "source": [
    "HTML\n",
    "=====\n",
    "\n",
    "* HyperText Markup Language\n",
    "\n",
    "* standard for creating webpages\n",
    "\n",
    "* HTML tags \n",
    "    - have angle brackets\n",
    "    - typically come in pairs"
   ]
  },
  {
   "cell_type": "markdown",
   "metadata": {
    "slideshow": {
     "slide_type": "skip"
    }
   },
   "source": [
    "This is an example for a minimal webpage defined in HTML tags. The root tag is `<html>` and then you have the `<head>` tag. This part of the page typically includes the title of the page and might also have other meta information like the author or keywords that are important for search engines. The `<body>` tag marks the actual content of the page. You can play around with the `<h2>` tag trying different header levels. They range from 1 to 6. "
   ]
  },
  {
   "cell_type": "code",
   "execution_count": 259,
   "metadata": {
    "collapsed": false,
    "slideshow": {
     "slide_type": "slide"
    }
   },
   "outputs": [
    {
     "data": {
      "text/html": [
       "<!DOCTYPE html>\n",
       "<html>\n",
       "  <head>\n",
       "    <title>This is a title</title>\n",
       "  </head>\n",
       "  <body>\n",
       "    <h2> Test </h2>\n",
       "    <p>Hello world!</p>\n",
       "  </body>\n",
       "</html>"
      ],
      "text/plain": [
       "<IPython.core.display.HTML object>"
      ]
     },
     "execution_count": 259,
     "metadata": {},
     "output_type": "execute_result"
    }
   ],
   "source": [
    "htmlString = \"\"\"<!DOCTYPE html>\n",
    "<html>\n",
    "  <head>\n",
    "    <title>This is a title</title>\n",
    "  </head>\n",
    "  <body>\n",
    "    <h2> Test </h2>\n",
    "    <p>Hello world!</p>\n",
    "  </body>\n",
    "</html>\"\"\"\n",
    "\n",
    "htmlOutput = HTML(htmlString)\n",
    "htmlOutput"
   ]
  },
  {
   "cell_type": "markdown",
   "metadata": {
    "slideshow": {
     "slide_type": "slide"
    }
   },
   "source": [
    "Useful Tags\n",
    "===========\n",
    "\n",
    "* heading\n",
    "`<h1></h1> ... <h6></h6>`\n",
    "\n",
    "* paragraph\n",
    "`<p></p>` \n",
    "\n",
    "* line break\n",
    "`<br>` \n",
    "\n",
    "* link with attribute\n",
    "\n",
    "`<a href=\"http://www.example.com/\">An example link</a>`\n"
   ]
  },
  {
   "cell_type": "markdown",
   "metadata": {
    "slideshow": {
     "slide_type": "slide"
    }
   },
   "source": [
    "Scraping with Python:\n",
    "=====================\n",
    "\n",
    "* example of a beautifully simple webpage:\n",
    "\n",
    "http://www.crummy.com/software/BeautifulSoup"
   ]
  },
  {
   "cell_type": "markdown",
   "metadata": {
    "slideshow": {
     "slide_type": "slide"
    }
   },
   "source": [
    "Scraping with Python:\n",
    "=====================\n",
    "\n",
    "* good news: \n",
    "    - some browsers help\n",
    "    - look for: inspect element\n",
    "    - need only basic html\n",
    "    \n",
    "** Try 'Ctrl-Shift I' in Chrome **\n",
    "\n",
    "** Try 'Command-Option I' in Safari **\n"
   ]
  },
  {
   "cell_type": "markdown",
   "metadata": {
    "slideshow": {
     "slide_type": "slide"
    }
   },
   "source": [
    "Scraping with Python\n",
    "==================\n",
    "\n",
    "* different useful libraries:\n",
    "    - urllib\n",
    "    - beautifulsoup\n",
    "    - pattern\n",
    "    - soupy\n",
    "    - LXML\n",
    "    - ...\n",
    "    "
   ]
  },
  {
   "cell_type": "markdown",
   "metadata": {
    "slideshow": {
     "slide_type": "skip"
    }
   },
   "source": [
    "The following cell just defines a url as a string and then reads the data from that url using the `urllib` library. If you uncomment the print command you see that we got the whole HTML content of the page into the string variable source."
   ]
  },
  {
   "cell_type": "code",
   "execution_count": 260,
   "metadata": {
    "collapsed": false,
    "slideshow": {
     "slide_type": "slide"
    }
   },
   "outputs": [
    {
     "name": "stdout",
     "output_type": "stream",
     "text": [
      "<!DOCTYPE HTML PUBLIC \"-//W3C//DTD HTML 4.0 Transitional//EN\"\n",
      "\"http://www.w3.org/TR/REC-html40/transitional.dtd\">\n",
      "<html>\n",
      "<head>\n",
      "<meta http-equiv=\"Content-Type\" content=\"text/html; charset=utf-8\">\n",
      "<title>Beautiful Soup: We called him Tortoise because he taught us.</title>\n",
      "<link rev=\"made\" href=\"mailto:leonardr@segfault.org\">\n",
      "<link rel=\"stylesheet\" type=\"text/css\" href=\"/nb/themes/Default/nb.css\">\n",
      "<meta name=\"Description\" content=\"Beautiful Soup: a library designed for screen-scraping HTML and XML.\">\n",
      "<meta name=\"generator\" content=\"Markov Approximation 1.4 (module: leonardr)\">\n",
      "<meta name=\"author\" content=\"Leonard Richardson\">\n",
      "</head>\n",
      "<body bgcolor=\"white\" text=\"black\" link=\"blue\" vlink=\"660066\" alink=\"red\">\n",
      "<img align=\"right\" src=\"10.1.jpg\" width=\"250\"><br />\n",
      "\n",
      "<p>You didn't write that awful page. You're just trying to get some\n",
      "data out of it. Beautiful Soup is here to help. Since 2004, it's been\n",
      "saving programmers hours or days of work on quick-turnaround\n",
      "screen scraping projects.</p>\n",
      "\n",
      "<div align=\"center\">\n",
      "\n",
      "<a href=\"bs4/download/\"><h1>Beautiful Soup</h1></a>\n",
      "\n",
      "<p>\"A tremendous boon.\" -- Python411 Podcast</p>\n",
      "\n",
      "<p>[ <a href=\"#Download\">Download</a> | <a\n",
      "href=\"bs4/doc/\">Documentation</a> | <a href=\"#HallOfFame\">Hall of Fame</a> | <a href=\"https://code.launchpad.net/beautifulsoup\">Source</a> | <a href=\"https://groups.google.com/forum/?fromgroups#!forum/beautifulsoup\">Discussion group</a> ]</p>\n",
      "\n",
      "<small>If Beautiful Soup has saved you a lot of time and money, the\n",
      "best way to pay me back is to check out <a\n",
      "href=\"http://www.candlemarkandgleam.com/shop/constellation-games/\"><i>Constellation\n",
      "Games</i>, my sci-fi novel about alien video games</a>.<br />You can\n",
      "<a\n",
      "href=\"http://constellation.crummy.com/Constellation%20Games%20excerpt.html\">read\n",
      "the first two chapters for free</a>, and the full novel starts at 5\n",
      "USD. Thanks!</small> </div>\n",
      "\n",
      "<p><i>If you have questions, send them to <a\n",
      "href=\"https://groups.google.com/forum/?fromgroups#!forum/beautifulsoup\">the discussion\n",
      "group</a>. If you find a bug, <a href=\"https://bugs.launchpad.net/beautifulsoup/\">file it</a>.</i></p>\n",
      "\n",
      "<p>Beautiful Soup is a Python library designed for quick turnaround\n",
      "projects like screen-scraping. Three features make it powerful:\n",
      "\n",
      "<ol>\n",
      "\n",
      "<li>Beautiful Soup provides a few simple methods and Pythonic idioms\n",
      "for navigating, searching, and modifying a parse tree: a toolkit for\n",
      "dissecting a document and extracting what you need. It doesn't take\n",
      "much code to write an application\n",
      "\n",
      "<li>Beautiful Soup automatically converts incoming documents to\n",
      "Unicode and outgoing documents to UTF-8. You don't have to think\n",
      "about encodings, unless the document doesn't specify an encoding and\n",
      "Beautiful Soup can't detect one. Then you just have to specify the\n",
      "original encoding.\n",
      "\n",
      "<li>Beautiful Soup sits on top of popular Python parsers like <a\n",
      "href=\"http://lxml.de/\">lxml</a> and <a\n",
      "href=\"http://code.google.com/p/html5lib/\">html5lib</a>, allowing you\n",
      "to try out different parsing strategies or trade speed for\n",
      "flexibility.\n",
      "\n",
      "</ol>\n",
      "\n",
      "<p>Beautiful Soup parses anything you give it, and does the tree\n",
      "traversal stuff for you. You can tell it \"Find all the links\", or\n",
      "\"Find all the links of class <tt>externalLink</tt>\", or \"Find all the\n",
      "links whose urls match \"foo.com\", or \"Find the table heading that's\n",
      "got bold text, then give me that text.\"\n",
      "\n",
      "<p>Valuable data that was once locked up in poorly-designed websites\n",
      "is now within your reach. Projects that would have taken hours take\n",
      "only minutes with Beautiful Soup.\n",
      "\n",
      "<p>Interested? <a href=\"bs4/doc/\">Read more.</a>\n",
      "\n",
      "<a name=\"Download\"><h2>Download Beautiful Soup</h2></a>\n",
      "\n",
      "<p>The current release is <a href=\"bs4/download/\">Beautiful Soup\n",
      "4.4.0</a> (July 3, 2015). You can install Beautiful Soup 4 with\n",
      "<code>pip install beautifulsoup4</code>. It's also available as the\n",
      "<code>python-beautifulsoup4</code> package in recent versions of\n",
      "Debian, Ubuntu, and Fedora .\n",
      "\n",
      "<p>Beautiful Soup 4 works on both Python 2 (2.6+) and Python 3.\n",
      "\n",
      "<p>Beautiful Soup is licensed under the MIT license, so you can also\n",
      "download the tarball, drop the <code>bs4/</code> directory into almost\n",
      "any Python application (or into your library path) and start using it\n",
      "immediately. (If you want to do this under Python 3, you will need to\n",
      "manually convert the code using <code>2to3</code>.)\n",
      "\n",
      "<h3>Beautiful Soup 3</h3>\n",
      "\n",
      "<p>Beautiful Soup 3 was the official release line of Beautiful Soup\n",
      "from May 2006 to March 2012. It is considered stable, and only\n",
      "critical bugs will be fixed. <a\n",
      "href=\"http://www.crummy.com/software/BeautifulSoup/bs3/documentation.html\">Here's\n",
      "the Beautiful Soup 3 documentation.</a>\n",
      "\n",
      "<p>Beautiful Soup 3 works only under Python 2.x. It is licensed under\n",
      "the same license as Python itself.\n",
      "\n",
      "<p>The current release of Beautiful Soup 3 is <a\n",
      "href=\"download/3.x/BeautifulSoup-3.2.1.tar.gz\">3.2.1</a> (February 16,\n",
      "2012). You can install Beautiful Soup 3 with <code>pip install\n",
      "BeautifulSoup</code>. It's also available as\n",
      "<code>python-beautifulsoup</code> in Debian and Ubuntu, and as\n",
      "<code>python-BeautifulSoup</code> in Fedora.\n",
      "\n",
      "<p>You can also download the tarball and use\n",
      "<code>BeautifulSoup.py</code> in your project directly.\n",
      "\n",
      "\n",
      "<a name=\"HallOfFame\"><h2>Hall of Fame</h2></a>\n",
      "\n",
      "<p>Over the years, Beautiful Soup has been used in hundreds of\n",
      "different projects. There's no way I can list them all, but I want to\n",
      "highlight a few high-profile projects. Beautiful Soup isn't what makes\n",
      "these projects interesting, but it did make their completion easier:\n",
      "\n",
      "<ul>\n",
      "\n",
      "<li><a\n",
      " href=\"http://www.nytimes.com/2007/10/25/arts/design/25vide.html\">\"Movable\n",
      " Type\"</a>, a work of digital art on display in the lobby of the New\n",
      " York Times building, uses Beautiful Soup to scrape news feeds.\n",
      "\n",
      "<li>Reddit uses Beautiful Soup to <a\n",
      "href=\"https://github.com/reddit/reddit/blob/85f9cff3e2ab9bb8f19b96acd8da4ebacc079f04/r2/r2/lib/media.py\">parse\n",
      "a page that's been linked to and find a representative image</a>.\n",
      "\n",
      "<li>Alexander Harrowell uses Beautiful Soup to <a\n",
      " href=\"http://www.harrowell.org.uk/viktormap.html\">track the business\n",
      " activities</a> of an arms merchant.\n",
      "\n",
      "<li>The developers of Python itself used Beautiful Soup to <a\n",
      "href=\"http://svn.python.org/view/tracker/importer/\">migrate the Python\n",
      "bug tracker from Sourceforge to Roundup</a>.\n",
      "\n",
      "<li>The <a href=\"http://www2.ljworld.com/\">Lawrence Journal-World</a>\n",
      "uses Beautiful Soup to <A\n",
      "href=\"http://www.b-list.org/weblog/2010/nov/02/news-done-broke/\">gather\n",
      "statewide election results</a>.\n",
      "\n",
      "<li>The <a href=\"http://esrl.noaa.gov/gsd/fab/\">NOAA's Forecast\n",
      "Applications Branch</a> uses Beautiful Soup in <a\n",
      "href=\"http://laps.noaa.gov/topograbber/\">TopoGrabber</a>, a script for\n",
      "downloading \"high resolution USGS datasets.\"\n",
      "\n",
      "</ul>\n",
      "\n",
      "<p>If you've used Beautiful Soup in a project you'd like me to know\n",
      "about, please do send email to me or <a\n",
      "href=\"http://groups.google.com/group/beautifulsoup/\">the discussion\n",
      "group</a>.\n",
      "\n",
      "<h2>Development</h2>\n",
      "\n",
      "<p>Development happens at <a\n",
      "href=\"https://launchpad.net/beautifulsoup\">Launchpad</a>. You can <a\n",
      "href=\"https://code.launchpad.net/beautifulsoup/\">get the source\n",
      "code</a> or <a href=\"https://bugs.launchpad.net/beautifulsoup/\">file\n",
      "bugs</a>.<hr><table><tr><td valign=\"top\">\n",
      "<p>This document (<a href=\"/source/software/BeautifulSoup/index.bhtml\">source</a>) is part of Crummy, the webspace of <a href=\"/self/\">Leonard Richardson</a> (<a href=\"/self/contact.html\">contact information</a>). It was last modified on Friday, July 03 2015, 15:38:09 Nowhere Standard Time and last built on Thursday, September 10 2015, 16:00:01 Nowhere Standard Time.</p><p><table class=\"licenseText\"><tr><td><a href=\"http://creativecommons.org/licenses/by-sa/2.0/\"><img border=\"0\" src=\"/nb//resources/img/somerights20.jpg\"></a></td><td valign=\"top\">Crummy is &copy; 1996-2015 Leonard Richardson. Unless otherwise noted, all text licensed under a <a href=\"http://creativecommons.org/licenses/by-sa/2.0/\">Creative Commons License</a>.</td></tr></table></span><!--<rdf:RDF xmlns=\"http://web.resource.org/cc/\" xmlns:dc=\"http://purl.org/dc/elements/1.1/\" xmlns:rdf=\"http://www.w3.org/1999/02/22-rdf-syntax-ns#\"><Work rdf:about=\"http://www.crummy.com/\"><dc:title>Crummy: The Site</dc:title><dc:rights><Agent><dc:title>Crummy: the Site</dc:title></Agent></dc:rights><dc:format>text/html</dc:format><license rdf:resource=http://creativecommons.org/licenses/by-sa/2.0//></Work><License rdf:about=\"http://creativecommons.org/licenses/by-sa/2.0/\"></License></rdf:RDF>--></p></td><td valign=top><p><b>Document tree:</b>\n",
      "<dl><dd><a href=\"http://www.crummy.com/\">http://www.crummy.com/</a><dl><dd><a href=\"http://www.crummy.com/software/\">software/</a><dl><dd><a href=\"http://www.crummy.com/software/BeautifulSoup/\">BeautifulSoup/</a></dl>\n",
      "</dl>\n",
      "</dl>\n",
      "\n",
      "\n",
      "Site Search:\n",
      "\n",
      "<form method=\"get\" action=\"/search/\">\n",
      "        <input type=\"text\" name=\"q\" maxlength=\"255\" value=\"\"></input>\n",
      "        </form>\n",
      "        </td>\n",
      "\n",
      "</tr>\n",
      "\n",
      "</table>\n",
      "</body>\n",
      "</html>\n",
      "\n"
     ]
    }
   ],
   "source": [
    "url = 'http://www.crummy.com/software/BeautifulSoup'\n",
    "source = urllib2.urlopen(url).read()\n",
    "print source"
   ]
  },
  {
   "cell_type": "markdown",
   "metadata": {
    "slideshow": {
     "slide_type": "slide"
    }
   },
   "source": [
    "Quiz :\n",
    "======\n",
    "\n",
    "* Is the word 'Alice' mentioned on the beautiful soup homepage?\n",
    "* How often does the word 'Soup' occur on the site?\n",
    "    - hint: use `.count()`\n",
    "* At what index occurs the substring 'alien video games' ?\n",
    "    - hint: use `.find()`"
   ]
  },
  {
   "cell_type": "code",
   "execution_count": 261,
   "metadata": {
    "collapsed": false,
    "slideshow": {
     "slide_type": "slide"
    }
   },
   "outputs": [
    {
     "name": "stdout",
     "output_type": "stream",
     "text": [
      "False\n",
      "41\n",
      "1639\n",
      "alien video games\n"
     ]
    }
   ],
   "source": [
    "## is 'Alice' in source?\n",
    "print 'Alice' in source\n",
    "\n",
    "## count occurences of 'Soup'\n",
    "print source.count(\"Soup\")\n",
    "\n",
    "## find index of 'alien video games'\n",
    "phrase = 'alien video games'\n",
    "phrase_len = len(phrase)\n",
    "\n",
    "index = source.find(phrase)\n",
    "\n",
    "print index\n",
    "print source[index:index+phrase_len]"
   ]
  },
  {
   "cell_type": "markdown",
   "metadata": {
    "slideshow": {
     "slide_type": "slide"
    }
   },
   "source": [
    "Beautiful Soup\n",
    "==============\n",
    "\n",
    "* designed to make your life easier\n",
    "* many good functions for parsing html code"
   ]
  },
  {
   "cell_type": "markdown",
   "metadata": {
    "slideshow": {
     "slide_type": "slide"
    }
   },
   "source": [
    "Some examples\n",
    "=============\n"
   ]
  },
  {
   "cell_type": "code",
   "execution_count": 262,
   "metadata": {
    "collapsed": false
   },
   "outputs": [
    {
     "data": {
      "text/plain": [
       "[<a href=\"bs4/download/\"><h1>Beautiful Soup</h1></a>,\n",
       " <a href=\"#Download\">Download</a>,\n",
       " <a href=\"bs4/doc/\">Documentation</a>,\n",
       " <a href=\"#HallOfFame\">Hall of Fame</a>,\n",
       " <a href=\"https://code.launchpad.net/beautifulsoup\">Source</a>,\n",
       " <a href=\"https://groups.google.com/forum/?fromgroups#!forum/beautifulsoup\">Discussion group</a>,\n",
       " <a href=\"http://www.candlemarkandgleam.com/shop/constellation-games/\"><i>Constellation\\nGames</i>, my sci-fi novel about alien video games</a>,\n",
       " <a href=\"http://constellation.crummy.com/Constellation%20Games%20excerpt.html\">read\\nthe first two chapters for free</a>,\n",
       " <a href=\"https://groups.google.com/forum/?fromgroups#!forum/beautifulsoup\">the discussion\\ngroup</a>,\n",
       " <a href=\"https://bugs.launchpad.net/beautifulsoup/\">file it</a>,\n",
       " <a href=\"http://lxml.de/\">lxml</a>,\n",
       " <a href=\"http://code.google.com/p/html5lib/\">html5lib</a>,\n",
       " <a href=\"bs4/doc/\">Read more.</a>,\n",
       " <a name=\"Download\"><h2>Download Beautiful Soup</h2></a>,\n",
       " <a href=\"bs4/download/\">Beautiful Soup\\n4.4.0</a>,\n",
       " <a href=\"http://www.crummy.com/software/BeautifulSoup/bs3/documentation.html\">Here's\\nthe Beautiful Soup 3 documentation.</a>,\n",
       " <a href=\"download/3.x/BeautifulSoup-3.2.1.tar.gz\">3.2.1</a>,\n",
       " <a name=\"HallOfFame\"><h2>Hall of Fame</h2></a>,\n",
       " <a href=\"http://www.nytimes.com/2007/10/25/arts/design/25vide.html\">\"Movable\\n Type\"</a>,\n",
       " <a href=\"https://github.com/reddit/reddit/blob/85f9cff3e2ab9bb8f19b96acd8da4ebacc079f04/r2/r2/lib/media.py\">parse\\na page that's been linked to and find a representative image</a>,\n",
       " <a href=\"http://www.harrowell.org.uk/viktormap.html\">track the business\\n activities</a>,\n",
       " <a href=\"http://svn.python.org/view/tracker/importer/\">migrate the Python\\nbug tracker from Sourceforge to Roundup</a>,\n",
       " <a href=\"http://www2.ljworld.com/\">Lawrence Journal-World</a>,\n",
       " <a href=\"http://www.b-list.org/weblog/2010/nov/02/news-done-broke/\">gather\\nstatewide election results</a>,\n",
       " <a href=\"http://esrl.noaa.gov/gsd/fab/\">NOAA's Forecast\\nApplications Branch</a>,\n",
       " <a href=\"http://laps.noaa.gov/topograbber/\">TopoGrabber</a>,\n",
       " <a href=\"http://groups.google.com/group/beautifulsoup/\">the discussion\\ngroup</a>,\n",
       " <a href=\"https://launchpad.net/beautifulsoup\">Launchpad</a>,\n",
       " <a href=\"https://code.launchpad.net/beautifulsoup/\">get the source\\ncode</a>,\n",
       " <a href=\"https://bugs.launchpad.net/beautifulsoup/\">file\\nbugs</a>,\n",
       " <a href=\"/source/software/BeautifulSoup/index.bhtml\">source</a>,\n",
       " <a href=\"/self/\">Leonard Richardson</a>,\n",
       " <a href=\"/self/contact.html\">contact information</a>,\n",
       " <a href=\"http://creativecommons.org/licenses/by-sa/2.0/\"><img border=\"0\" src=\"/nb//resources/img/somerights20.jpg\"/></a>,\n",
       " <a href=\"http://creativecommons.org/licenses/by-sa/2.0/\">Creative Commons License</a>,\n",
       " <a href=\"http://www.crummy.com/\">http://www.crummy.com/</a>,\n",
       " <a href=\"http://www.crummy.com/software/\">software/</a>,\n",
       " <a href=\"http://www.crummy.com/software/BeautifulSoup/\">BeautifulSoup/</a>]"
      ]
     },
     "execution_count": 262,
     "metadata": {},
     "output_type": "execute_result"
    }
   ],
   "source": [
    "## get bs4 object\n",
    "soup = bs4.BeautifulSoup(source, \"lxml\")\n",
    " \n",
    "## compare the two print statements\n",
    "#print soup\n",
    "#print soup.prettify()\n",
    "\n",
    "## show how to find all a tags\n",
    "soup.findAll('a')\n",
    "\n",
    "## ***Why does this not work? ***\n",
    "#soup.findAll('Soup')"
   ]
  },
  {
   "cell_type": "markdown",
   "metadata": {
    "slideshow": {
     "slide_type": "slide"
    }
   },
   "source": [
    "Some examples\n",
    "============="
   ]
  },
  {
   "cell_type": "code",
   "execution_count": 263,
   "metadata": {
    "collapsed": false
   },
   "outputs": [
    {
     "data": {
      "text/plain": [
       "['bs4/download/',\n",
       " '#Download',\n",
       " 'bs4/doc/',\n",
       " '#HallOfFame',\n",
       " 'https://code.launchpad.net/beautifulsoup',\n",
       " 'https://groups.google.com/forum/?fromgroups#!forum/beautifulsoup',\n",
       " 'http://www.candlemarkandgleam.com/shop/constellation-games/',\n",
       " 'http://constellation.crummy.com/Constellation%20Games%20excerpt.html',\n",
       " 'https://groups.google.com/forum/?fromgroups#!forum/beautifulsoup',\n",
       " 'https://bugs.launchpad.net/beautifulsoup/',\n",
       " 'http://lxml.de/',\n",
       " 'http://code.google.com/p/html5lib/',\n",
       " 'bs4/doc/',\n",
       " None,\n",
       " 'bs4/download/',\n",
       " 'http://www.crummy.com/software/BeautifulSoup/bs3/documentation.html',\n",
       " 'download/3.x/BeautifulSoup-3.2.1.tar.gz',\n",
       " None,\n",
       " 'http://www.nytimes.com/2007/10/25/arts/design/25vide.html',\n",
       " 'https://github.com/reddit/reddit/blob/85f9cff3e2ab9bb8f19b96acd8da4ebacc079f04/r2/r2/lib/media.py',\n",
       " 'http://www.harrowell.org.uk/viktormap.html',\n",
       " 'http://svn.python.org/view/tracker/importer/',\n",
       " 'http://www2.ljworld.com/',\n",
       " 'http://www.b-list.org/weblog/2010/nov/02/news-done-broke/',\n",
       " 'http://esrl.noaa.gov/gsd/fab/',\n",
       " 'http://laps.noaa.gov/topograbber/',\n",
       " 'http://groups.google.com/group/beautifulsoup/',\n",
       " 'https://launchpad.net/beautifulsoup',\n",
       " 'https://code.launchpad.net/beautifulsoup/',\n",
       " 'https://bugs.launchpad.net/beautifulsoup/',\n",
       " '/source/software/BeautifulSoup/index.bhtml',\n",
       " '/self/',\n",
       " '/self/contact.html',\n",
       " 'http://creativecommons.org/licenses/by-sa/2.0/',\n",
       " 'http://creativecommons.org/licenses/by-sa/2.0/',\n",
       " 'http://www.crummy.com/',\n",
       " 'http://www.crummy.com/software/',\n",
       " 'http://www.crummy.com/software/BeautifulSoup/']"
      ]
     },
     "execution_count": 263,
     "metadata": {},
     "output_type": "execute_result"
    }
   ],
   "source": [
    "## get attribute value from an element:\n",
    "## find tag: this only returns the first occurrence, not all tags in the string\n",
    "first_tag = soup.find('a')\n",
    "\n",
    "## get attribute `href`\n",
    "first_tag.get('href')\n",
    "\n",
    "## get all links in the page\n",
    "link_list = [l.get('href') for l in soup.findAll('a')]\n",
    "link_list"
   ]
  },
  {
   "cell_type": "code",
   "execution_count": 264,
   "metadata": {
    "collapsed": false,
    "slideshow": {
     "slide_type": "slide"
    }
   },
   "outputs": [],
   "source": [
    "## filter all external links\n",
    "# create an empty list to collect the valid links\n",
    "# external_links = []\n",
    "\n",
    "# write a loop to filter the links\n",
    "# if it starts with 'http' we are happy\n",
    "# for l in link_list:\n",
    "#     if l[:4] == 'http':\n",
    "#         external_links.append(l)\n",
    "\n",
    "# this throws an error! It says something about 'NoneType'"
   ]
  },
  {
   "cell_type": "code",
   "execution_count": 265,
   "metadata": {
    "collapsed": false,
    "slideshow": {
     "slide_type": "slide"
    }
   },
   "outputs": [
    {
     "name": "stdout",
     "output_type": "stream",
     "text": [
      "2\n"
     ]
    }
   ],
   "source": [
    "# lets investigate. Have a close look at the link_list:\n",
    "link_list\n",
    "\n",
    "# Seems that there are None elements!\n",
    "# Let's verify\n",
    "print sum([l is None for l in link_list])\n",
    "\n",
    "# So there are two elements in the list that are None!"
   ]
  },
  {
   "cell_type": "code",
   "execution_count": 266,
   "metadata": {
    "collapsed": false,
    "slideshow": {
     "slide_type": "slide"
    }
   },
   "outputs": [
    {
     "data": {
      "text/plain": [
       "['https://code.launchpad.net/beautifulsoup',\n",
       " 'https://groups.google.com/forum/?fromgroups#!forum/beautifulsoup',\n",
       " 'http://www.candlemarkandgleam.com/shop/constellation-games/',\n",
       " 'http://constellation.crummy.com/Constellation%20Games%20excerpt.html',\n",
       " 'https://groups.google.com/forum/?fromgroups#!forum/beautifulsoup',\n",
       " 'https://bugs.launchpad.net/beautifulsoup/',\n",
       " 'http://lxml.de/',\n",
       " 'http://code.google.com/p/html5lib/',\n",
       " 'http://www.crummy.com/software/BeautifulSoup/bs3/documentation.html',\n",
       " 'http://www.nytimes.com/2007/10/25/arts/design/25vide.html',\n",
       " 'https://github.com/reddit/reddit/blob/85f9cff3e2ab9bb8f19b96acd8da4ebacc079f04/r2/r2/lib/media.py',\n",
       " 'http://www.harrowell.org.uk/viktormap.html',\n",
       " 'http://svn.python.org/view/tracker/importer/',\n",
       " 'http://www2.ljworld.com/',\n",
       " 'http://www.b-list.org/weblog/2010/nov/02/news-done-broke/',\n",
       " 'http://esrl.noaa.gov/gsd/fab/',\n",
       " 'http://laps.noaa.gov/topograbber/',\n",
       " 'http://groups.google.com/group/beautifulsoup/',\n",
       " 'https://launchpad.net/beautifulsoup',\n",
       " 'https://code.launchpad.net/beautifulsoup/',\n",
       " 'https://bugs.launchpad.net/beautifulsoup/',\n",
       " 'http://creativecommons.org/licenses/by-sa/2.0/',\n",
       " 'http://creativecommons.org/licenses/by-sa/2.0/',\n",
       " 'http://www.crummy.com/',\n",
       " 'http://www.crummy.com/software/',\n",
       " 'http://www.crummy.com/software/BeautifulSoup/']"
      ]
     },
     "execution_count": 266,
     "metadata": {},
     "output_type": "execute_result"
    }
   ],
   "source": [
    "# Let's filter those objects out in the for loop\n",
    "external_links = []\n",
    "\n",
    "# write a loop to filter the links\n",
    "# if it is not None and starts with 'http' we are happy\n",
    "for l in link_list:\n",
    "    if l is not None and l[:4] == 'http':\n",
    "        external_links.append(l)\n",
    "        \n",
    "external_links"
   ]
  },
  {
   "cell_type": "markdown",
   "metadata": {
    "slideshow": {
     "slide_type": "skip"
    }
   },
   "source": [
    "Note: The above `if` condition works because of lazy evaluation in Python. The `and` statement becomes `False` if the first part is `False`, so there is no need to ever evaluate the second part. Thus a `None` entry in the list gets never asked about its first four characters. "
   ]
  },
  {
   "cell_type": "code",
   "execution_count": 267,
   "metadata": {
    "collapsed": false,
    "slideshow": {
     "slide_type": "slide"
    }
   },
   "outputs": [
    {
     "data": {
      "text/plain": [
       "['https://code.launchpad.net/beautifulsoup',\n",
       " 'https://groups.google.com/forum/?fromgroups#!forum/beautifulsoup',\n",
       " 'http://www.candlemarkandgleam.com/shop/constellation-games/',\n",
       " 'http://constellation.crummy.com/Constellation%20Games%20excerpt.html',\n",
       " 'https://groups.google.com/forum/?fromgroups#!forum/beautifulsoup',\n",
       " 'https://bugs.launchpad.net/beautifulsoup/',\n",
       " 'http://lxml.de/',\n",
       " 'http://code.google.com/p/html5lib/',\n",
       " 'http://www.crummy.com/software/BeautifulSoup/bs3/documentation.html',\n",
       " 'http://www.nytimes.com/2007/10/25/arts/design/25vide.html',\n",
       " 'https://github.com/reddit/reddit/blob/85f9cff3e2ab9bb8f19b96acd8da4ebacc079f04/r2/r2/lib/media.py',\n",
       " 'http://www.harrowell.org.uk/viktormap.html',\n",
       " 'http://svn.python.org/view/tracker/importer/',\n",
       " 'http://www2.ljworld.com/',\n",
       " 'http://www.b-list.org/weblog/2010/nov/02/news-done-broke/',\n",
       " 'http://esrl.noaa.gov/gsd/fab/',\n",
       " 'http://laps.noaa.gov/topograbber/',\n",
       " 'http://groups.google.com/group/beautifulsoup/',\n",
       " 'https://launchpad.net/beautifulsoup',\n",
       " 'https://code.launchpad.net/beautifulsoup/',\n",
       " 'https://bugs.launchpad.net/beautifulsoup/',\n",
       " 'http://creativecommons.org/licenses/by-sa/2.0/',\n",
       " 'http://creativecommons.org/licenses/by-sa/2.0/',\n",
       " 'http://www.crummy.com/',\n",
       " 'http://www.crummy.com/software/',\n",
       " 'http://www.crummy.com/software/BeautifulSoup/']"
      ]
     },
     "execution_count": 267,
     "metadata": {},
     "output_type": "execute_result"
    }
   ],
   "source": [
    "# and we can put this in a list comprehension as well, it almost reads like \n",
    "# a sentence.\n",
    "\n",
    "[l for l in link_list if l is not None and l.startswith('http')]"
   ]
  },
  {
   "cell_type": "markdown",
   "metadata": {
    "slideshow": {
     "slide_type": "slide"
    }
   },
   "source": [
    "Parsing the Tree\n",
    "================\n",
    "\n"
   ]
  },
  {
   "cell_type": "code",
   "execution_count": 268,
   "metadata": {
    "collapsed": false
   },
   "outputs": [
    {
     "name": "stdout",
     "output_type": "stream",
     "text": [
      "<html><head><title>This is a title</title></head><body><h3> Test </h3><p>Hello world!</p></body></html>\n",
      "<head><title>This is a title</title></head>\n",
      "<body><h3> Test </h3><p>Hello world!</p></body>\n"
     ]
    },
    {
     "data": {
      "text/plain": [
       "<body><h3> Test </h3><p>Hello world!</p></body>"
      ]
     },
     "execution_count": 268,
     "metadata": {},
     "output_type": "execute_result"
    }
   ],
   "source": [
    "# redifining `s` without any line breaks\n",
    "s = \"\"\"<!DOCTYPE html><html><head><title>This is a title</title></head><body><h3> Test </h3><p>Hello world!</p></body></html>\"\"\"\n",
    "## get bs4 object\n",
    "tree = bs4.BeautifulSoup(s, \"lxml\")\n",
    "\n",
    "## get html root node\n",
    "root_node = tree.html\n",
    "print root_node\n",
    "\n",
    "## get head from root using contents\n",
    "head = root_node.contents[0]\n",
    "print head\n",
    "\n",
    "## get body from root\n",
    "body = root_node.contents[1]\n",
    "print body \n",
    "\n",
    "## could directly access body\n",
    "tree.body\n"
   ]
  },
  {
   "cell_type": "markdown",
   "metadata": {
    "slideshow": {
     "slide_type": "slide"
    }
   },
   "source": [
    "Quiz:\n",
    "=====\n",
    "\n",
    "* Find the `h3` tag by parsing the tree starting at `body`\n",
    "* Create a list of all __Hall of Fame__ entries listed on the Beautiful Soup webpage\n",
    "    - hint: it is the only unordered list in the page (tag `ul`)\n"
   ]
  },
  {
   "cell_type": "code",
   "execution_count": 269,
   "metadata": {
    "collapsed": false,
    "slideshow": {
     "slide_type": "slide"
    }
   },
   "outputs": [
    {
     "data": {
      "text/plain": [
       "u' Test '"
      ]
     },
     "execution_count": 269,
     "metadata": {},
     "output_type": "execute_result"
    }
   ],
   "source": [
    "## get h3 tag from body\n",
    "tree.body.find(\"h3\").string"
   ]
  },
  {
   "cell_type": "code",
   "execution_count": 270,
   "metadata": {
    "collapsed": false,
    "slideshow": {
     "slide_type": "slide"
    }
   },
   "outputs": [
    {
     "name": "stdout",
     "output_type": "stream",
     "text": [
      "[[u'Reddit uses Beautiful Soup to ', u\"parse\\na page that's been linked to and find a representative image\", u'.\\n\\n'], [u'Alexander Harrowell uses Beautiful Soup to ', u'track the business\\n activities', u' of an arms merchant.\\n\\n'], [u'The developers of Python itself used Beautiful Soup to ', u'migrate the Python\\nbug tracker from Sourceforge to Roundup', u'.\\n\\n'], [u'The ', u'Lawrence Journal-World', u'\\nuses Beautiful Soup to ', u'gather\\nstatewide election results', u'.\\n\\n'], [u'The ', u\"NOAA's Forecast\\nApplications Branch\", u' uses Beautiful Soup in ', u'TopoGrabber', u', a script for\\ndownloading \"high resolution USGS datasets.\"\\n\\n']]\n"
     ]
    }
   ],
   "source": [
    "## use ul as entry point\n",
    "\n",
    "hof_list = soup.find('ul').findAll('li')\n",
    "## get hall of fame list from entry point\n",
    "## skip the first entry \n",
    "hof_list_reduced = hof_list[1:]\n",
    "\n",
    "## reformat into a list containing strings\n",
    "## it is ok to have a list of lists\n",
    "#print hof_list_reduced[1].find('a').previous\n",
    "#print hof_list_reduced[1].find('a').next\n",
    "#print hof_list_reduced[1].find('a').next.next\n",
    "\n",
    "tmp = []\n",
    "\n",
    "for item in hof_list_reduced:\n",
    "    tmp.append([l.string for l in item])\n",
    "\n",
    "print tmp\n",
    "# for item in hof_list_reduced:\n",
    "#     item_nxt = item.next\n",
    "#     while item_nxt:\n",
    "#         print item_nxt\n",
    "#         item_nxt = item_nxt.next\n",
    "    #print item.find('a').previous, item.find('a').next, item.find('a').next.next\n",
    "    #print '\\n'\n",
    "\n",
    "    \n",
    "\n",
    "\n"
   ]
  },
  {
   "cell_type": "markdown",
   "metadata": {
    "slideshow": {
     "slide_type": "slide"
    }
   },
   "source": [
    "`tmp` now is actually a list of lists containing the hall of fame entries. \n",
    "Here is some advanced Python on how to print really just one entry per list item.\n",
    "\n",
    "The cool things about this are: \n",
    "* The use of `\"\"` to just access the `join` function of strings.\n",
    "* The `join` function itself\n",
    "* that you can actually have two nested for loops in a list comprehension"
   ]
  },
  {
   "cell_type": "code",
   "execution_count": 271,
   "metadata": {
    "collapsed": false,
    "slideshow": {
     "slide_type": "-"
    }
   },
   "outputs": [
    {
     "name": "stdout",
     "output_type": "stream",
     "text": [
      "Reddit uses Beautiful Soup to parse\n",
      "a page that's been linked to and find a representative image.\n",
      "\n",
      "\n",
      "Alexander Harrowell uses Beautiful Soup to track the business\n",
      " activities of an arms merchant.\n",
      "\n",
      "\n",
      "The developers of Python itself used Beautiful Soup to migrate the Python\n",
      "bug tracker from Sourceforge to Roundup.\n",
      "\n",
      "\n",
      "The Lawrence Journal-World\n",
      "uses Beautiful Soup to gather\n",
      "statewide election results.\n",
      "\n",
      "\n",
      "The NOAA's Forecast\n",
      "Applications Branch uses Beautiful Soup in TopoGrabber, a script for\n",
      "downloading \"high resolution USGS datasets.\"\n",
      "\n",
      "\n"
     ]
    }
   ],
   "source": [
    "test =  [\"\".join(str(a) for a in sublist) for sublist in tmp]\n",
    "print '\\n'.join(test)"
   ]
  },
  {
   "cell_type": "markdown",
   "metadata": {
    "slideshow": {
     "slide_type": "slide"
    }
   },
   "source": [
    "Advanced Example\n",
    "===============\n",
    "\n",
    "Idea by [Jesse Steinweg-Woods](https://jessesw.com/Data-Science-Skills/)\n",
    "--------------------------------------------------------------------------------"
   ]
  },
  {
   "cell_type": "markdown",
   "metadata": {
    "slideshow": {
     "slide_type": "slide"
    }
   },
   "source": [
    "Scraping data science skills\n",
    "=============================\n",
    "\n",
    "- What skills are in demand for data scientists?\n",
    "- Should we have a lecture on Spark or only on MapReduce?\n",
    "\n",
    "We want to scrape the information from job advertisements for data scientists from indeed.com\n",
    "Let's scrape and find out!"
   ]
  },
  {
   "cell_type": "code",
   "execution_count": 272,
   "metadata": {
    "collapsed": true,
    "slideshow": {
     "slide_type": "slide"
    }
   },
   "outputs": [],
   "source": [
    "# Fixed url for job postings containing data scientist\n",
    "url = 'http://www.indeed.com/jobs?q=data+scientist&l='\n",
    "# read the website\n",
    "source = urllib2.urlopen(url).read()\n",
    "# parse html code\n",
    "bs_tree = bs4.BeautifulSoup(source)"
   ]
  },
  {
   "cell_type": "code",
   "execution_count": 273,
   "metadata": {
    "collapsed": false,
    "slideshow": {
     "slide_type": "slide"
    }
   },
   "outputs": [
    {
     "name": "stdout",
     "output_type": "stream",
     "text": [
      "[u'Jobs', u'1', u'to', u'10', u'of', u'22,874']\n",
      "Search yielded 22,874 hits.\n",
      "[2, 2, 8, 7, 4]\n",
      "22874\n"
     ]
    }
   ],
   "source": [
    "# see how many job postings we found\n",
    "job_count_string = bs_tree.find(id = 'searchCount').contents[0]\n",
    "print job_count_string.split()\n",
    "job_count_string = job_count_string.split()[-1]\n",
    "print(\"Search yielded %s hits.\" % (job_count_string))\n",
    "\n",
    "# not that job_count so far is still a string, \n",
    "# not an integer, and the , separator prevents \n",
    "# us from just casting it to int\n",
    "\n",
    "job_count_digits = [int(d) for d in job_count_string if d.isdigit()]\n",
    "print job_count_digits\n",
    "job_count = np.sum([digit*(10**exponent) for digit, exponent in \n",
    "                    zip(job_count_digits[::-1], range(len(job_count_digits)))])\n",
    "\n",
    "job_count = np.sum([digit*(10**exponent) for digit, exponent in \n",
    "                    zip(job_count_digits[::-1], range(len(job_count_digits)))])\n",
    "\n",
    "print job_count\n"
   ]
  },
  {
   "cell_type": "code",
   "execution_count": 274,
   "metadata": {
    "collapsed": false,
    "slideshow": {
     "slide_type": "slide"
    }
   },
   "outputs": [
    {
     "name": "stdout",
     "output_type": "stream",
     "text": [
      "2288\n",
      "We found a lot of jobs:  24\n"
     ]
    }
   ],
   "source": [
    "# The website is only listing 10 results per page, \n",
    "# so we need to scrape them page after page\n",
    "num_pages = int(np.ceil(job_count/10.0))\n",
    "\n",
    "base_url = 'http://www.indeed.com'\n",
    "job_links = []\n",
    "for i in range(2): #do range(num_pages) if you want them all\n",
    "    if i%10==0:\n",
    "        print num_pages-i\n",
    "    url = 'http://www.indeed.com/jobs?q=data+scientist&start=' + str(i*10)\n",
    "    html_page = urllib2.urlopen(url).read() \n",
    "    bs_tree = bs4.BeautifulSoup(html_page)\n",
    "    job_link_area = bs_tree.find(id = 'resultsCol')\n",
    "    job_postings = job_link_area.findAll(\"div\")\n",
    "    job_postings = [jp for jp in job_postings if not jp.get('class') is None \n",
    "                    and ''.join(jp.get('class')) ==\"rowresult\"]\n",
    "    job_ids = [jp.get('data-jk') for jp in job_postings]\n",
    "    \n",
    "    # go after each link\n",
    "    for id in job_ids:\n",
    "        job_links.append(base_url + '/rc/clk?jk=' + id)\n",
    "\n",
    "    time.sleep(1)\n",
    "\n",
    "print \"We found a lot of jobs: \", len(job_links)"
   ]
  },
  {
   "cell_type": "code",
   "execution_count": 275,
   "metadata": {
    "collapsed": false
   },
   "outputs": [
    {
     "name": "stdout",
     "output_type": "stream",
     "text": [
      "22874\n"
     ]
    },
    {
     "data": {
      "text/plain": [
       "['http://www.indeed.com/rc/clk?jk=7c77355609e0aae4',\n",
       " 'http://www.indeed.com/rc/clk?jk=88c2d3973e33de7f',\n",
       " 'http://www.indeed.com/rc/clk?jk=07f1b46928f006b0',\n",
       " 'http://www.indeed.com/rc/clk?jk=156f9618f7af45cd',\n",
       " 'http://www.indeed.com/rc/clk?jk=4438623155fcce77',\n",
       " 'http://www.indeed.com/rc/clk?jk=48176099e5fb2b2d',\n",
       " 'http://www.indeed.com/rc/clk?jk=95ec4a3aca0ad363',\n",
       " 'http://www.indeed.com/rc/clk?jk=0b4a5a3379ca5450',\n",
       " 'http://www.indeed.com/rc/clk?jk=26bc04850604621e',\n",
       " 'http://www.indeed.com/rc/clk?jk=6ca41a9918287f12',\n",
       " 'http://www.indeed.com/rc/clk?jk=b0114865bcd4e31e',\n",
       " 'http://www.indeed.com/rc/clk?jk=936fb8ea0311ea89',\n",
       " 'http://www.indeed.com/rc/clk?jk=2b36c3436e979f79',\n",
       " 'http://www.indeed.com/rc/clk?jk=d100e9f517b50a7e',\n",
       " 'http://www.indeed.com/rc/clk?jk=e100481d2933914c',\n",
       " 'http://www.indeed.com/rc/clk?jk=9518d2abeb33e4a2',\n",
       " 'http://www.indeed.com/rc/clk?jk=fae72cf35fbb821b',\n",
       " 'http://www.indeed.com/rc/clk?jk=bd4351891509542e',\n",
       " 'http://www.indeed.com/rc/clk?jk=08e62497acc48c9f',\n",
       " 'http://www.indeed.com/rc/clk?jk=41ae59dff57bc12f',\n",
       " 'http://www.indeed.com/rc/clk?jk=b6f91146072b6ab0',\n",
       " 'http://www.indeed.com/rc/clk?jk=60b1e772358e2a2e',\n",
       " 'http://www.indeed.com/rc/clk?jk=d4cc51929459816c',\n",
       " 'http://www.indeed.com/rc/clk?jk=2a7f9b0e30b70f5e']"
      ]
     },
     "execution_count": 275,
     "metadata": {},
     "output_type": "execute_result"
    }
   ],
   "source": [
    "print job_count \n",
    "job_links"
   ]
  },
  {
   "cell_type": "markdown",
   "metadata": {
    "slideshow": {
     "slide_type": "slide"
    }
   },
   "source": [
    "Some precautions to enable us to restart our search\n",
    "========================="
   ]
  },
  {
   "cell_type": "code",
   "execution_count": 276,
   "metadata": {
    "collapsed": false,
    "slideshow": {
     "slide_type": "-"
    }
   },
   "outputs": [],
   "source": [
    "# Save the scraped links\n",
    "with open('data/scraped_links.pkl', 'wb') as f:\n",
    "    cPickle.dump(job_links, f)\n",
    "    \n",
    "# Read canned scraped links\n",
    "with open('data/scraped_links.pkl', 'r') as f:\n",
    "    job_links = cPickle.load(f)\n",
    "\n"
   ]
  },
  {
   "cell_type": "code",
   "execution_count": 277,
   "metadata": {
    "collapsed": true,
    "slideshow": {
     "slide_type": "slide"
    }
   },
   "outputs": [],
   "source": [
    "skill_set = {'mapreduce': 0, 'spark': 0}\n",
    "\n",
    "## write initialization into a file, so we can restart later\n",
    "with open('scraped_links_restart.pkl', 'wb') as f:\n",
    "    cPickle.dump((skill_set, 0),f)    "
   ]
  },
  {
   "cell_type": "markdown",
   "metadata": {
    "slideshow": {
     "slide_type": "slide"
    }
   },
   "source": [
    "Python Dictonaries\n",
    "==================\n",
    "\n",
    "* build in data type\n",
    "* uses key: value pairs"
   ]
  },
  {
   "cell_type": "code",
   "execution_count": 288,
   "metadata": {
    "collapsed": false,
    "slideshow": {
     "slide_type": "slide"
    }
   },
   "outputs": [
    {
     "name": "stdout",
     "output_type": "stream",
     "text": [
      "{'a': 1, 'b': 2}\n",
      "['a', 'b']\n",
      "[1, 2]\n",
      "a 1\n",
      "b 2\n",
      "a 1\n",
      "b 2\n"
     ]
    }
   ],
   "source": [
    "a = {'a': 1, 'b':2}\n",
    "print a\n",
    "\n",
    "#show keys\n",
    "print a.keys()\n",
    "\n",
    "#show values\n",
    "print a.values()\n",
    "\n",
    "#show for loop over all entries\n",
    "# option 1 using zip\n",
    "# this works also for iterating over any\n",
    "# other two lists\n",
    "for k,v in zip(a.keys(), a.values()):\n",
    "    print k,v\n",
    "\n",
    "# option 2 using the dictionary `iteritems()` function\n",
    "for k,v in a.iteritems():\n",
    "    print k,v"
   ]
  },
  {
   "cell_type": "code",
   "execution_count": 279,
   "metadata": {
    "collapsed": false,
    "slideshow": {
     "slide_type": "slide"
    }
   },
   "outputs": [
    {
     "name": "stdout",
     "output_type": "stream",
     "text": [
      "How many websites still to go?  -216\n"
     ]
    }
   ],
   "source": [
    "# This code below does the trick, but could be optimized for speed if necessary\n",
    "# e.g. skills are typically listed at the end of the webpage\n",
    "# might not need to split/join the whole webpage, as we already know\n",
    "# which words we are looking for \n",
    "# and could stop after the first occurance of each word\n",
    "\n",
    "with open('data/scraped_links_restart.pkl', 'r') as f:\n",
    "    skill_set, index = cPickle.load(f)\n",
    "    print \"How many websites still to go? \", len(job_links) - index\n",
    "    \n",
    "    "
   ]
  },
  {
   "cell_type": "code",
   "execution_count": 280,
   "metadata": {
    "collapsed": false,
    "slideshow": {
     "slide_type": "slide"
    }
   },
   "outputs": [],
   "source": [
    "counter = 0\n",
    "\n",
    "for link in job_links[index:]:\n",
    "    counter +=1  \n",
    "    \n",
    "    try:\n",
    "        html_page = urllib2.urlopen(link).read()\n",
    "    except urllib2.HTTPError:\n",
    "        print \"HTTPError:\"\n",
    "        continue\n",
    "    except urllib2.URLError:\n",
    "        print \"URLError:\"\n",
    "        continue\n",
    "    except socket.error as error:\n",
    "        print \"Connection closed\"\n",
    "        continue\n",
    "\n",
    "    html_text = re.sub(\"[^a-z.+3]\",\" \", html_page.lower()) # replace all but the listed characters\n",
    "        \n",
    "    for key in skill_set.keys():\n",
    "        if key in html_text:  \n",
    "            skill_set[key] +=1\n",
    "            \n",
    "    if counter % 5 == 0:\n",
    "        print len(job_links) - counter - index\n",
    "        print skill_set\n",
    "        with open('scraped_links_restart.pkl','wb') as f:\n",
    "            cPickle.dump((skill_set, index+counter),f)"
   ]
  },
  {
   "cell_type": "code",
   "execution_count": 297,
   "metadata": {
    "collapsed": false
   },
   "outputs": [
    {
     "data": {
      "text/plain": [
       "'    xml version   .   encoding  utf         doctype html public     w3c  dtd html  .   transitional  en     html    head     title downtownla.com   happy hours   title     script type  text javascript  src  http   partner.googleadservices.com gampad google service.js      script    script type  text javascript      gs googleaddadsenseservice  ca pub 33            3        gs googleenableallservices       script    script type  text javascript      ga googleaddslot  ca pub 33            3     level  about       ga googleaddslot  ca pub 33            3     level  connect       ga googleaddslot  ca pub 33            3     level  live       ga googleaddslot  ca pub 33            3     level  play       ga googleaddslot  ca pub 33            3     level  work       ga googleaddslot  ca pub 33            3     level  about       ga googleaddslot  ca pub 33            3     level  connect       ga googleaddslot  ca pub 33            3     level  live       ga googleaddslot  ca pub 33            3     level  play       ga googleaddslot  ca pub 33            3     level  work       ga googleaddslot  ca pub 33            3     test ad slot       ga googleaddslot  ca pub 33            3     level  calendar       ga googleaddslot  ca pub 33            3     level  directory       ga googleaddslot  ca pub 33            3     in house calendar       ga googleaddslot  ca pub 33            3     in house event detail       ga googleaddslot  ca pub 33            3     level  office towers       script    script type  text javascript      ga googlefetchads       script           if gte ie  .           script type  text javascript  src  js fixpng.js  language  javascript    script       endif        script type  text javascript  src  js global.js  language  javascript    script     script type  text javascript  src  ac oetags.js  language  javascript    script     script type  text javascript  src  js opacity.js  language  javascript    script     script type  text javascript  src  js popups.js  language  javascript    script     script type  text javascript  src  js directory scripts.js  language  javascript    script     link rel  stylesheet  type  text css  href  css default.css        head    body marginheight   marginwidth   leftmargin   topmargin   bgcolor              center    script language  javascript     function showdrop strwhich       document.getelementbyid  nav  + strwhich +  over  .style.display    block           function hidedrop strwhich       document.getelementbyid  nav  + strwhich +  over  .style.display    none          script    table width    33  height   3  cellpadding   cellspacing   border       tr      td style  padding left   px         div style  position  relative  height   3px  width    33px  background  transparent url   images global header bg.gif   no repeat top left          div style  position  absolute  top   3px  left    px           a href   index.asp   img src   images global spacer.gif  height   3  width  333  border   alt  downtowla.com home    a         div        div style  position  absolute  top     right             table border   cellpadding   cellspacing   width       height              tr          td align  right  valign  bottom   img src  images global toolbar corner left grey.gif    td          td class  toolbar  style  background  transparent url  images global toolbar bg tile grey.gif              a href       maps.asp  maps  a   a href       calendar.asp  events  a   a href      connectdirectory.asp  search  a   a href       safeandcleanteams.asp  safe  amp  clean  a   a href      aboutus.asp  about  a   a href     3 askus.asp  contact  a           td          td  img src  images global pixel white.gif  width     height        td          td class  toolbar  style  background  transparent url  images global toolbar bg tile.gif    padding left   px             a href  newsletter  newsletter  a   a href  http   twitter.com downtown la  target   blank  twitter  a   a href  http   www.facebook.com downtownla.com  target   blank  facebook  a   a href  http   pinterest.com downtownlacom   target   blank  pinterest  a   a href  http   www.foursquare.com downtown la  target   blank  foursquare  a           td          td align  left  valign  bottom   img src  images global toolbar corner right.gif    td          tr         table         div        div       td      tr     table      table width        cellpadding   cellspacing   border       tr      td rowspan   class  pageborder left  align  right  valign  top   nbsp   td      td bgcolor   ffffff  width        valign  top   div style  position  relative        table border   cellpadding   cellspacing   width              tr        td width       valign  top   img src  images 3   play buzz small.jpg  alt  play    td        td valign  middle  style  background  url  images     live buzz bg right.jpg   no repeat top right           table border   cellpadding   cellspacing   style  height     px  width     px            tr           td style  padding left  3px             img src  images 3   play headline happyhourtop.gif  alt  happy hours in downtown la           h  class  bodycopy  style  padding left   px  width     px            in the mood for a martini  how about a microbrew with a bite to eat  happy hour is a great  and affordable  way to sample what downtown la s best restaurants  bars and hot spots have to offer.          h             td           tr          table         td        tr       table      p align  center  class  secnav        a href  3    downtownspecials.asp  downtown specials  a  nbsp   nbsp  u happy hours  u  nbsp   nbsp  a href  3    maps.asp  downtown maps  a  nbsp   nbsp  a href  3  3 artsandentertainment.asp  arts  amp  entertainment  a  nbsp   nbsp  a href      families.asp  kids  amp  families  a  nbsp   nbsp  a href  3    dining.asp  dining  a  nbsp   nbsp  a href  3    nightlife.asp  nightlife  a  nbsp   nbsp  a href  3    hotels.asp  hotels  a  nbsp   nbsp  a href  3    sports.asp  sports  a  nbsp   nbsp  a href  3    shopping.asp  shopping  a  nbsp   nbsp  a href  3    parking.asp  parking here  a       p      table border   cellpadding   cellspacing         tr        td valign  top  style  padding left    px  padding right    px  padding top    px           div style  width     px  display  table                     img src  images 3   play headline happyhour.gif                    p class  bodycopy  style  padding   px     px                       we re keeping track of the latest deals so you don t have to. use the tools below to begin your happy hour adventure.                   p                div class  bodycopy  style  border  px solid  f    background color  ffc  padding   px   px   px   px                       p style  font size   pt  padding bottom  pt    strong happy hour updates in progress  strong   p                        p style  padding bottom  pt  font size  . em  line height  . em   we are currently performing some routine maintenance in an effort to bring you the freshest content about downtown los angeles. please visit us again next week or  ndash  even easier  ndash   a href  javascript launchlistsignup     style  font size inherit    strong sign up for special event alerts to receive notice of our updated hours  strong   a .  p                     div                    br                            table border   cellpadding   cellspacing   style  width    3px  height     px  background   eeeeee url  images 3   play 3.   searchbg.jpg   no repeat top right            form method  post  action   3    happyhours.asp                       input type  hidden  name  action  value  search                       tr           td class  bodycopy  valign  top  width  3    style  padding left    px  padding top    px             day br                            select id  dow  name  dow  style  margin bottom    px  border   px solid          width     px  text align  center  font    pt verdana   onchange  updatedirectorysubcats   document.getelementbyid  subcategory  .disabled false                                            option value     monday  option                                                            option value     tuesday  option                                                            option value  3  wednesday  option                                                            option value     selected thursday  option                                                            option value     friday  option                                                            option value     saturday  option                                                            option value     sunday  option                                                          select            td           td class  bodycopy  valign  top  style  padding left    px  padding top    px             time br                            select id  tod  name  tod  style  margin bottom    px  border   px solid          width     px  text align  center  font    pt verdana   onchange  updatedirectorysubcats   document.getelementbyid  subcategory  .disabled false                                            option value        am        am  option                                                            option value       am       am  option                                                            option value       am       am  option                                                            option value  3    am  3    am  option                                                            option value       am       am  option                                                            option value       am       am  option                                                            option value       am       am  option                                                            option value       am       am  option                                                            option value       am       am  option                                                            option value       am  selected      am  option                                                            option value        am        am  option                                                            option value        am        am  option                                                            option value        pm        pm  option                                                            option value       pm       pm  option                                                            option value       pm       pm  option                                                            option value  3    pm  3    pm  option                                                            option value       pm       pm  option                                                            option value       pm       pm  option                                                            option value       pm       pm  option                                                            option value       pm       pm  option                                                            option value       pm       pm  option                                                            option value       pm       pm  option                                                            option value        pm        pm  option                                                            option value        pm        pm  option                                                          select            td                         td class  bodycopy  valign  top  style  padding left    px  padding top    px             neighborhood br                            select id  neighborhood  name  neighborhood  style  margin bottom    px  border   px solid          width     px  text align  center  font    pt verdana                                 option value     any  option                                                            option value      arts district  option                                                            option value     bunker hill  option                                                            option value      central city east  option                                                            option value     chinatown  option                                                            option value     city west  option                                                            option value      civic center  option                                                            option value      el pueblo  option                                                            option value      fashion district  option                                                            option value     figueroa corridor  option                                                            option value   3  financial district  option                                                            option value      historic downtown  option                                                            option value     jewelry district  option                                                            option value     little tokyo  option                                                            option value      south park  option                                                          select            td                         td width        valign  bottom  style  padding left    px  padding bottom    px    input type  image  src  images global button find on.gif    td           tr                       form          table                   br                                    table border     cellpadding     celspacing     width                           tr                       td valign  middle  class  bucketheadine  style  padding right   px                                                  bunker nbsp hill                                                td                         td valign  middle  width                                 div style  height   px  border top   px solid  f   3      div                          td                       tr                    table                   br                          table border     cellpadding     celspacing                        tr                                                 td valign  top   img src  images otherimages gqybj st hope.jpg  width         td                                                 td valign  top  style  padding left    px                                                    p class  calendar eventtitle  style  color                                        a href      directory businessdetails.asp bid       first   hope american bistro  a  nbsp  a href  happyhoursrss.xml  target   blank   img src  images global icon rss small.gif  border   alt  rss feed    a                             p                            p class  bodycopy                                 w.  st st.                            p                                                      p class  bodycopy  style  padding    px                                     strong tue   fri       pm         pm br     strong                             p                            p class  bodycopy  style  padding    px                                       at   social soiree      draft beer  amp  wine     well drinks     bar bites.                            p                                      p class  bodycopy                              a href  http   www.firstandhope.com   target   blank  http   www.firstandhope.com   a             p                                    td                       tr                    table                   br                          table border     cellpadding     celspacing                        tr                                                 td valign  top   img src  images otherimages pwoifmccormick.jpg  width         td                                                 td valign  top  style  padding left    px                                                    p class  calendar eventtitle  style  color                                        a href      directory businessdetails.asp bid  3   mccormick   schmick s  a  nbsp  a href  happyhoursrss.xml  target   blank   img src  images global icon rss small.gif  border   alt  rss feed    a                             p                            p class  bodycopy                              33 w.  th st.                            p                                                      p class  bodycopy  style  padding    px                                     strong mon   fri  3    pm         pm br     strong                             p                            p class  bodycopy  style  padding    px                                    under    happy hour menu items  including   .   cheeseburger and fries.  3.   minimum beverage purchase per person. also offering a free shuttle to and from the staples center any day there is an event                             p                                      p class  bodycopy                              a href  http   www.mccormickandschmicks.com locations southern california los angeles los angeles california fifthst.aspx  target   blank  http   www.mccormickandschmicks.com locations southern california los angeles los angeles california fifthst.aspx  a             p                                    td                       tr                    table                   br                          table border     cellpadding     celspacing                        tr                                                 td valign  top   img src  images otherimages snmzynick and stefs.jpg  width         td                                                 td valign  top  style  padding left    px                                                    p class  calendar eventtitle  style  color                                        a href      directory businessdetails.asp bid      nick   stef s steakhouse la  a  nbsp  a href  happyhoursrss.xml  target   blank   img src  images global icon rss small.gif  border   alt  rss feed    a                             p                            p class  bodycopy                             33  s. hope st.                            p                                                      p class  bodycopy  style  padding    px                                     strong mon   fri  3    pm     3  pm br     strong                             p                            p class  bodycopy  style  padding    px                                     p   steakhouse sliders and oysters on the half shell     each  p    p      flatbreads  p    p   select signature cocktails for    during happy hour  p    p   outdoor lounge with a skyline view  p    p   dinner parking validation  3 hours free after  pm  p    p   complimentary evening shuttle to staples center nbsp  amp  nbsp theaters  p                             p                                      p class  bodycopy                              a href  http   www.patinagroup.com restaurant.php restaurants id    target   blank  http   www.patinagroup.com restaurant.php restaurants id    a             p                                    td                       tr                    table                   br                                    table border     cellpadding     celspacing     width                           tr                       td valign  middle  class  bucketheadine  style  padding right   px                                                  financial nbsp district                                                td                         td valign  middle  width                                 div style  height   px  border top   px solid  f   3      div                          td                       tr                    table                   br                          table border     cellpadding     celspacing                        tr                                                 td valign  top   img src  images otherimages dgiegmo chica.jpg  width         td                                                 td valign  top  style  padding left    px                                                    p class  calendar eventtitle  style  color                                        nbsp  a href  happyhoursrss.xml  target   blank   img src  images global icon rss small.gif  border   alt  rss feed    a                             p                            p class  bodycopy                               strong  middot   strong                              p                                                      p class  bodycopy  style  padding    px                                     strong weekend happy hour  sat   sun    3  pm        pm br   weekday happy hour  mon   fri    3  pm        pm br     strong                             p                            p class  bodycopy  style  padding    px                                       cuba libre  pisco sour  amp  classic margarita div    wines br  3 cuzquena peruvian lager  amp  xingu black ale br small plates including nbsp    sweet potato fries     quinoa salad  nbsp    spicy chicken wings  amp  nbsp    nbsp ceviche mixto nbsp   div                             p                                      p class  bodycopy                              a href  http   mo chica.com sample page  target   blank  http   mo chica.com sample page  a             p                                    td                       tr                    table                   br                          table border     cellpadding     celspacing                        tr                                                 td valign  top   img src  images otherimages diwfybitters.jpg  width         td                                                 td valign  top  style  padding left    px                                                    p class  calendar eventtitle  style  color                                        a href      directory businessdetails.asp bid      bar   kitchen  a  nbsp  a href  happyhoursrss.xml  target   blank   img src  images global icon rss small.gif  border   alt  rss feed    a                             p                            p class  bodycopy                                 s. flower st.                            p                                                      p class  bodycopy  style  padding    px                                     strong mon   fri       pm        pm br     strong                             p                            p class  bodycopy  style  padding    px                                     p  font size     face  verdana     specialty cocktails     house cocktails   3 miller high life     sparkling  red or white wine       food  font   p                             p                                      p class  bodycopy                              a href  http   barandkitchenla.com   target   blank  http   barandkitchenla.com   a             p                                    td                       tr                    table                   br                          table border     cellpadding     celspacing                        tr                                                 td valign  top   img src  images otherimages tpsuwheader.jpg  width         td                                                 td valign  top  style  padding left    px                                                    p class  calendar eventtitle  style  color                                        a href      directory businessdetails.asp bid   3  big wangs sports bar  a  nbsp  a href  happyhoursrss.xml  target   blank   img src  images global icon rss small.gif  border   alt  rss feed    a                             p                            p class  bodycopy                                 s. grand ave.                            p                                                      p class  bodycopy  style  padding    px                                     strong mon   sun        pm         pm br   mon   fri  3    pm        pm br     strong                             p                            p class  bodycopy  style  padding    px                                     p  font size   face verdana mon   fri   3    pm         pm half off wings and appetizers    .   beer  font   p    p  font size   face verdana mon nbsp   fri         pm         pm beers starting at  3     house wine   font   p                             p                                      p class  bodycopy                              a href  http   bigwangs.com bar.html  target   blank  http   bigwangs.com bar.html  a             p                                    td                       tr                    table                   br                          table border     cellpadding     celspacing                        tr                                                 td valign  top   img src  images otherimages samlbborder grill.jpg  width         td                                                 td valign  top  style  padding left    px                                                    p class  calendar eventtitle  style  color                                        a href      directory businessdetails.asp bid   3  border grill  a  nbsp  a href  happyhoursrss.xml  target   blank   img src  images global icon rss small.gif  border   alt  rss feed    a                             p                            p class  bodycopy                                 s. figueroa st.                            p                                                      p class  bodycopy  style  padding    px                                     strong sun       pm        pm br   mon   fri       pm        pm br   sat  3    pm        pm br     strong                             p                            p class  bodycopy  style  padding    px                                     p  span style  font family  verdana  font size  x small    3 beer      border margaritas  mojitos  red sangria  wine by the glass nbsp   span   p  div  br   div                             p                                      p class  bodycopy                              a href  http   bordergrill.com  target   blank  http   bordergrill.com  a             p                                    td                       tr                    table                   br                          table border     cellpadding     celspacing                        tr                                                 td valign  top   img src  images otherimages nrpaucaseys main.png  width         td                                                 td valign  top  style  padding left    px                                                    p class  calendar eventtitle  style  color                                        a href      directory businessdetails.asp bid      casey s bar   grill  a  nbsp  a href  happyhoursrss.xml  target   blank   img src  images global icon rss small.gif  border   alt  rss feed    a                             p                            p class  bodycopy                               3 s. grand ave.                            p                                                      p class  bodycopy  style  padding    px                                     strong tue   sat  3    pm        pm br   irish happy hour  tue   wed        pm         pm br     strong                             p                            p class  bodycopy  style  padding    px                                     p  font size   face verdana  3 pbr     well cocktails     jameson     home made pub fries  font   p                             p                                      p class  bodycopy                              a href  http     3nightlife.com caseysirishpub  target   blank  http     3nightlife.com caseysirishpub  a             p                                    td                       tr                    table                   br                          table border     cellpadding     celspacing                        tr                                                 td valign  top   img src  images otherimages sjnkjchaya.jpg  width         td                                                 td valign  top  style  padding left    px                                                    p class  calendar eventtitle  style  color                                        a href      directory businessdetails.asp bid      chaya downtown  a  nbsp  a href  happyhoursrss.xml  target   blank   img src  images global icon rss small.gif  border   alt  rss feed    a                             p                            p class  bodycopy                                 s. flower st.                            p                                                      p class  bodycopy  style  padding    px                                     strong sun       pm        pm br   mon   fri       pm         pm br   sat       pm         pm br     strong                             p                            p class  bodycopy  style  padding    px                                    signature cocktails  wines  sushi  appetizers and rolls. every sunday night  half priced wine bottles and a       course farmer s market chef menu.                            p                                      p class  bodycopy                              a href  http   www.thechaya.com downtown la   target   blank  http   www.thechaya.com downtown la   a             p                                    td                       tr                    table                   br                          table border     cellpadding     celspacing                        tr                                                 td valign  top   img src  images otherimages lgsaqcity tavern.jpg  width         td                                                 td valign  top  style  padding left    px                                                    p class  calendar eventtitle  style  color                                        a href      directory businessdetails.asp bid       city tavern downtown los angeles  a  nbsp  a href  happyhoursrss.xml  target   blank   img src  images global icon rss small.gif  border   alt  rss feed    a                             p                            p class  bodycopy                              3  s. figueroa st.  ste.  33                            p                                                      p class  bodycopy  style  padding    px                                     strong mon   sun  3    pm        pm br     strong                             p                            p class  bodycopy  style  padding    px                                     font face  arial  sans serif  city tavern happy hour      for 3  oz. of craft beer  served in a milk jug      well cocktails     house cocktails  and our signature refined comfort food  font      if gte mso     xml     w data ffffffff                 e       d                                                            w data     xml    endif         if supportfields   span style  font size   . pt   font family  arial   sans serif  mso fareast font family  times new roman    mso ansi language en us mso fareast language en us mso bidi language ar sa   span  style  mso element field end    span   span    endif                                p                                      p class  bodycopy                              a href  http   www.citytaverndtla.com menus hoppy hour   target   blank  http   www.citytaverndtla.com menus hoppy hour   a             p                                    td                       tr                    table                   br                          table border     cellpadding     celspacing                        tr                                                 td valign  top   img src  images otherimages jsqlc mg     .jpg  width         td                                                 td valign  top  style  padding left    px                                                    p class  calendar eventtitle  style  color                                        a href      directory businessdetails.asp bid 33   cucina rustica  a  nbsp  a href  happyhoursrss.xml  target   blank   img src  images global icon rss small.gif  border   alt  rss feed    a                             p                            p class  bodycopy                                 wilshire blvd.                            p                                                      p class  bodycopy  style  padding    px                                     strong basement bar happy hour  mon   fri  3    pm        pm br     strong                             p                            p class  bodycopy  style  padding    px                                        off select beers  house wines  well drinks and select specialty cocktails.  nbsp discover dtla s secret underground bar and enjoy our delicious happy hour menu. downstairs from cucina rustica.                            p                                      p class  bodycopy                              a href  http   www.cucinarusticala.com   target   blank  http   www.cucinarusticala.com   a             p                                    td                       tr                    table                   br                          table border     cellpadding     celspacing                        tr                                                 td valign  top   img src  images otherimages izivfbar area.jpg  width         td                                                 td valign  top  style  padding left    px                                                    p class  calendar eventtitle  style  color                                        a href      directory businessdetails.asp bid       drago centro  a  nbsp  a href  happyhoursrss.xml  target   blank   img src  images global icon rss small.gif  border   alt  rss feed    a                             p                            p class  bodycopy                                 s. flower st.                            p                                                      p class  bodycopy  style  padding    px                                     strong mon   fri     3  am         pm br   sat   sun       pm         pm br     strong                             p                            p class  bodycopy  style  padding    px                                    bar menu available.                            p                                      p class  bodycopy                              a href  http   dragocentro.com menus.php  target   blank  http   dragocentro.com menus.php  a             p                                    td                       tr                    table                   br                          table border     cellpadding     celspacing                        tr                                                 td valign  top   img src  images otherimages rtugrr engine.jpg  width         td                                                 td valign  top  style  padding left    px                                                    p class  calendar eventtitle  style  color                                        a href      directory businessdetails.asp bid    3  engine co. no.     a  nbsp  a href  happyhoursrss.xml  target   blank   img src  images global icon rss small.gif  border   alt  rss feed    a                             p                            p class  bodycopy                                 s. figueroa st.                            p                                                      p class  bodycopy  style  padding    px                                     strong mon   sun  3    pm        pm br   mon   sun       pm         pm br     strong                             p                            p class  bodycopy  style  padding    px                                       menu of food  beer  wine  well drinks.                            p                                      p class  bodycopy                              a href  http   www.engineco.com   target   blank  http   www.engineco.com   a             p                                    td                       tr                    table                   br                          table border     cellpadding     celspacing                        tr                                                 td valign  top   img src  images otherimages zhnushappy hour logo fig color logo white background 3  x  .jpg  width         td                                                 td valign  top  style  padding left    px                                                    p class  calendar eventtitle  style  color                                        a href      directory businessdetails.asp bid       figat th  a  nbsp  a href  happyhoursrss.xml  target   blank   img src  images global icon rss small.gif  border   alt  rss feed    a                             p                            p class  bodycopy                              3  s. figueroa st.                            p                                                      p class  bodycopy  style  padding    px                                     strong figat th    happy hour  sat   sun        am        pm br   figat th    happy hour  mon   fri       pm        pm br     strong                             p                            p class  bodycopy  style  padding    px                                    the    happy hour at figat th  experience signature items from your favorite figat th eateries on weekdays from  pm close. items change monthly so be sure to check back regularly. individual eateries have additional happy hour specials and times.                            p                                      p class  bodycopy                              a href  http   www.figat th.com special promotions   target   blank  http   www.figat th.com special promotions   a             p                                    td                       tr                    table                   br                          table border     cellpadding     celspacing                        tr                                                 td valign  top   img src  images otherimages giuwxgolden main.png  width         td                                                 td valign  top  style  padding left    px                                                    p class  calendar eventtitle  style  color                                        a href      directory businessdetails.asp bid       golden gopher  a  nbsp  a href  happyhoursrss.xml  target   blank   img src  images global icon rss small.gif  border   alt  rss feed    a                             p                            p class  bodycopy                                 w.  th st.                            p                                                      p class  bodycopy  style  padding    px                                     strong tue   sat       pm        pm br     strong                             p                            p class  bodycopy  style  padding    px                                       well drinks     draft beers     specialty drinks  pizza+beer+shot deals        3                            p                                      p class  bodycopy                              a href  http     3nightlife.com goldengopher  target   blank  http     3nightlife.com goldengopher  a             p                                    td                       tr                    table                   br                          table border     cellpadding     celspacing                        tr                                                 td valign  top   img src  images otherimages nndyhfigueroa gallery poolnight.jpg  width         td                                                 td valign  top  style  padding left    px                                                    p class  calendar eventtitle  style  color                                        a href      directory businessdetails.asp bid       hotel figueroa  a  nbsp  a href  happyhoursrss.xml  target   blank   img src  images global icon rss small.gif  border   alt  rss feed    a                             p                            p class  bodycopy                              3  s. figueroa st.                            p                                                      p class  bodycopy  style  padding    px                                     strong happy hour  mon   sun       pm        pm br     strong                             p                            p class  bodycopy  style  padding    px                                     font face  arial  sans serif   3 beer of the month     draft beers     house wines     well drinks  and    tacos on weekends nbsp   font  div  font face  arial  sans serif  daily  pm  pm  amp    pm   pm  font   div                             p                                      p class  bodycopy                              a href  http   www.figueroahotel.com   target   blank  http   www.figueroahotel.com   a             p                                    td                       tr                    table                   br                          table border     cellpadding     celspacing                        tr                                                 td valign  top   img src  images otherimages qzrsylocal table.jpg  width         td                                                 td valign  top  style  padding left    px                                                    p class  calendar eventtitle  style  color                                        a href      directory businessdetails.asp bid       local table  a  nbsp  a href  happyhoursrss.xml  target   blank   img src  images global icon rss small.gif  border   alt  rss feed    a                             p                            p class  bodycopy                                 s. figueroa st.                            p                                                      p class  bodycopy  style  padding    px                                     strong mon   thu  sat       pm        pm br     strong                             p                            p class  bodycopy  style  padding    px                                       cocktails  beer  wine  sangria  specialty cocktails div  br   div  div special bar menu  div                             p                                      p class  bodycopy                              a href  http   www.localtable la.com  target   blank  http   www.localtable la.com  a             p                                    td                       tr                    table                   br                          table border     cellpadding     celspacing                        tr                                                 td valign  top   img src  images otherimages xosjpmarias.jpg  width         td                                                 td valign  top  style  padding left    px                                                    p class  calendar eventtitle  style  color                                        a href      directory businessdetails.asp bid      maria s italian kitchen  a  nbsp  a href  happyhoursrss.xml  target   blank   img src  images global icon rss small.gif  border   alt  rss feed    a                             p                            p class  bodycopy                                 s. flower st.                            p                                                      p class  bodycopy  style  padding    px                                     strong mon   sun       pm         pm br     strong                             p                            p class  bodycopy  style  padding    px                                     3 drafts     house wine     well drinks   3 drafts     bites                            p                                      p class  bodycopy                              a href  http   mariasdowntownla.com   target   blank  http   mariasdowntownla.com   a             p                                    td                       tr                    table                   br                          table border     cellpadding     celspacing                        tr                                                 td valign  top   img src  images global spacer.gif  width         td                                              td valign  top  style  padding left    px                                                    p class  calendar eventtitle  style  color                                        a href      directory businessdetails.asp bid      mas malo  a  nbsp  a href  happyhoursrss.xml  target   blank   img src  images global icon rss small.gif  border   alt  rss feed    a                             p                            p class  bodycopy                                 w.  th st.                            p                                                      p class  bodycopy  style  padding    px                                     strong weekday happy hour  mon   fri  3    pm        pm br     strong                             p                            p class  bodycopy  style  padding    px                                    beer  3  sangria     margaritas    br bar bites  3   including enchilada nachos  ceviche tostada  amp  beef taquitos                            p                                      p class  bodycopy                              a href  http   masmalorestaurant.com   target   blank  http   masmalorestaurant.com   a             p                                    td                       tr                    table                   br                          table border     cellpadding     celspacing                        tr                                                 td valign  top   img src  images otherimages uzeojmortons.jpg  width         td                                                 td valign  top  style  padding left    px                                                    p class  calendar eventtitle  style  color                                        a href      directory businessdetails.asp bid      morton s the steakhouse  a  nbsp  a href  happyhoursrss.xml  target   blank   img src  images global icon rss small.gif  border   alt  rss feed    a                             p                            p class  bodycopy                              3  s. figueroa st.                            p                                                      p class  bodycopy  style  padding    px                                     strong mon   fri  sun    3  pm     3  pm br   mon   fri  sun       pm         pm br     strong                             p                            p class  bodycopy  style  padding    px                                       beer    .   wine and   .   morton s mortini s  plus    drafts     bar bites.                            p                                      p class  bodycopy                              a href  http   www.mortons.com losangeles   target   blank  http   www.mortons.com losangeles   a             p                                    td                       tr                    table                   br                          table border     cellpadding     celspacing                        tr                                                 td valign  top   img src  images otherimages upmknnoe.jpg  width         td                                                 td valign  top  style  padding left    px                                                    p class  calendar eventtitle  style  color                                        a href      directory businessdetails.asp bid      noe restaurant   bar  a  nbsp  a href  happyhoursrss.xml  target   blank   img src  images global icon rss small.gif  border   alt  rss feed    a                             p                            p class  bodycopy                                 s. olive st.                            p                                                      p class  bodycopy  style  padding    px                                     strong mon   fri       pm        pm br     strong                             p                            p class  bodycopy  style  padding    px                                       wells and house wines    3 domestic beers      sliders                            p                                      p class  bodycopy                              a href  http   www.noerestaurant.com losangeles default.html  target   blank  http   www.noerestaurant.com losangeles default.html  a             p                                    td                       tr                    table                   br                          table border     cellpadding     celspacing                        tr                                                 td valign  top   img src  images global spacer.gif  width         td                                              td valign  top  style  padding left    px                                                    p class  calendar eventtitle  style  color                                        a href      directory businessdetails.asp bid 3    salvage bar   lounge  a  nbsp  a href  happyhoursrss.xml  target   blank   img src  images global icon rss small.gif  border   alt  rss feed    a                             p                            p class  bodycopy                                 w. seventh st.                            p                                                      p class  bodycopy  style  padding    px                                     strong salvage happy hour weekdays  mon   fri  3    pm        pm br     strong                             p                            p class  bodycopy  style  padding    px                                     3 beers   3 well drinks   3 house wines  and     off all food                            p                                      p class  bodycopy                              a href  www.facebook.com salvagela  target   blank  www.facebook.com salvagela  a             p                                    td                       tr                    table                   br                          table border     cellpadding     celspacing                        tr                                                 td valign  top   img src  images otherimages wodvaseven main.png  width         td                                                 td valign  top  style  padding left    px                                                    p class  calendar eventtitle  style  color                                        a href      directory businessdetails.asp bid  3   seven grand  a  nbsp  a href  happyhoursrss.xml  target   blank   img src  images global icon rss small.gif  border   alt  rss feed    a                             p                            p class  bodycopy                                 w.  th st.                            p                                                      p class  bodycopy  style  padding    px                                     strong thu   fri       pm        pm br   mon   wed       pm        pm br     strong                             p                            p class  bodycopy  style  padding    px                                       off cocktails and spirits     off beer and wine                            p                                      p class  bodycopy                              a href  http     3nightlife.com sevengrand  target   blank  http     3nightlife.com sevengrand  a             p                                    td                       tr                    table                   br                          table border     cellpadding     celspacing                        tr                                                 td valign  top   img src  images otherimages etbit restaurant.jpg  width         td                                                 td valign  top  style  padding left    px                                                    p class  calendar eventtitle  style  color                                        a href      directory businessdetails.asp bid  3   seven restaurant bar  a  nbsp  a href  happyhoursrss.xml  target   blank   img src  images global icon rss small.gif  border   alt  rss feed    a                             p                            p class  bodycopy                                 w.  th st.                            p                                                      p class  bodycopy  style  padding    px                                     strong tue   fri       pm        pm br     strong                             p                            p class  bodycopy  style  padding    px                                                                p                                      p class  bodycopy                              a href  http   www.sevenrestaurantbar.com   target   blank  http   www.sevenrestaurantbar.com   a             p                                    td                       tr                    table                   br                          table border     cellpadding     celspacing                        tr                                                 td valign  top   img src  images otherimages rmlutsuede.jpg  width         td                                                 td valign  top  style  padding left    px                                                    p class  calendar eventtitle  style  color                                        a href      directory businessdetails.asp bid      suede bar   lounge  a  nbsp  a href  happyhoursrss.xml  target   blank   img src  images global icon rss small.gif  border   alt  rss feed    a                             p                            p class  bodycopy                                 s. figueroa st.                            p                                                      p class  bodycopy  style  padding    px                                     strong     stress free happy hour   mon   fri       pm        pm br     strong                             p                            p class  bodycopy  style  padding    px                                     p    wells  house wines  house beers and most appetizers. relax in comfort  watch your favorite sporting event or enjoy your favorite cigar from our humidor in our outdoor patio.   p    p  nbsp   p                             p                                      p class  bodycopy                              a href  http   suedebarla.com   target   blank  http   suedebarla.com   a             p                                    td                       tr                    table                   br                          table border     cellpadding     celspacing                        tr                                                 td valign  top   img src  images otherimages nrjcfr takami.jpg  width         td                                                 td valign  top  style  padding left    px                                                    p class  calendar eventtitle  style  color                                        a href      directory businessdetails.asp bid      takami sushi   robata restaurant  a  nbsp  a href  happyhoursrss.xml  target   blank   img src  images global icon rss small.gif  border   alt  rss feed    a                             p                            p class  bodycopy                                 wilshire blvd.    st flr.                            p                                                      p class  bodycopy  style  padding    px                                     strong  wine ding down   mon   sun       pm        pm br     strong                             p                            p class  bodycopy  style  padding    px                                                                p                                      p class  bodycopy                              a href  http   www.takamisushi.com index.html  target   blank  http   www.takamisushi.com index.html  a             p                                    td                       tr                    table                   br                          table border     cellpadding     celspacing                        tr                                                 td valign  top   img src  images otherimages qkbpdcabbage.jpg  width         td                                                 td valign  top  style  padding left    px                                                    p class  calendar eventtitle  style  color                                        a href      directory businessdetails.asp bid      the cabbage patch  a  nbsp  a href  happyhoursrss.xml  target   blank   img src  images global icon rss small.gif  border   alt  rss feed    a                             p                            p class  bodycopy                                 w.  th st.                            p                                                      p class  bodycopy  style  padding    px                                     strong mon   fri        am         am br   mon   fri  3    pm        pm br     strong                             p                            p class  bodycopy  style  padding    px                                    early bird special       off food and drinks  dine in or take out.                            p                                      p class  bodycopy                              a href  http   www.cabbagepatchla.com portfolio downtown   target   blank  http   www.cabbagepatchla.com portfolio downtown   a             p                                    td                       tr                    table                   br                          table border     cellpadding     celspacing                        tr                                                 td valign  top   img src   images eventimages dvbzczrvmhhappyhourstandard.jpg  width         td                                                 td valign  top  style  padding left    px                                                    p class  calendar eventtitle  style  color                                        a href      directory businessdetails.asp bid   3  the standard  downtown la  a  nbsp  a href  happyhoursrss.xml  target   blank   img src  images global icon rss small.gif  border   alt  rss feed    a                             p                            p class  bodycopy                                 s. flower st.                            p                                                      p class  bodycopy  style  padding    px                                     strong   strong                             p                            p class  bodycopy  style  padding    px                                    for the first time ever  the standard downtown l.a  have a happy hour  come and enjoy drinks from      during the hours of    pm. offer applies to the      restaurant  spin ping pong club and the iconic rooftop bar.                            p                                      p class  bodycopy                              a href  http   standardhotels.com downtown la food drink      restaurant  target   blank  http   standardhotels.com downtown la food drink      restaurant  a             p                                    td                       tr                    table                   br                          table border     cellpadding     celspacing                        tr                                                 td valign  top   img src  images otherimages jrobzwestin.jpg  width         td                                                 td valign  top  style  padding left    px                                                    p class  calendar eventtitle  style  color                                        a href      directory businessdetails.asp bid       westin bonaventure hotel and suites  a  nbsp  a href  happyhoursrss.xml  target   blank   img src  images global icon rss small.gif  border   alt  rss feed    a                             p                            p class  bodycopy                                 s. figueroa st.                            p                                                      p class  bodycopy  style  padding    px                                     strong closing belle  thu       pm        pm br     strong                             p                            p class  bodycopy  style  padding    px                                     p class  msonormal   font face  verdana  size     outdoor biergarten w live music  djs  and more on the  th floor courtyard of the westin bonaventure hotel. happy hour pricing  pm  pm  open until   pm .  font   p  p class  msonormal   font face  verdana  size        validated valet   hrs max  nbsp   font   p  div  br   div                             p                                      p class  bodycopy                              a href  https   www.facebook.com events                  target   blank  https   www.facebook.com events                  a             p                                    td                       tr                    table                   br                                    table border     cellpadding     celspacing     width                           tr                       td valign  middle  class  bucketheadine  style  padding right   px                           arts nbsp district                         td                         td valign  middle  width                                 div style  height   px  border top   px solid  f   3      div                          td                       tr                    table                   br                          table border     cellpadding     celspacing                        tr                                                 td valign  top   img src  images otherimages nvlgologo  3 .png  width       style  border   px solid  eeeeee     td                                                 td valign  top  style  padding left    px                                                    p class  calendar eventtitle  style  color                                        nbsp  a href  happyhoursrss.xml  target   blank   img src  images global icon rss small.gif  border   alt  rss feed    a                             p                            p class  bodycopy                               strong  middot   strong                              p                                                      p class  bodycopy  style  padding    px                                     strong happy hour  mon   fri       pm        pm br     strong                             p                            p class  bodycopy  style  padding    px                                    come enjoy happy hour everyday from 3  pm at our new dtla location. this special offer includes    oysters.  nbsp check out the full menu on our website at  a href  http   http   www.cervetecadtla.com   www.cervetecadtla.com  a  or call us at    3          .                            p                                      p class  bodycopy                              a href  http   www.cervetecadtla.com menus happyhour     target   blank  http   www.cervetecadtla.com menus happyhour     a             p                                    td                       tr                    table                   br                          table border     cellpadding     celspacing                        tr                                                 td valign  top   img src  images otherimages bwjklcervetecahh.jpg  width       style  border   px solid  eeeeee     td                                                 td valign  top  style  padding left    px                                                    p class  calendar eventtitle  style  color                                        a href      directory businessdetails.asp bid   33  cerveteca  a  nbsp  a href  happyhoursrss.xml  target   blank   img src  images global icon rss small.gif  border   alt  rss feed    a                             p                            p class  bodycopy                               3 e. 3rd st.                            p                                                      p class  bodycopy  style  padding    px                                     strong happy hour  mon   fri       pm        pm br     strong                             p                            p class  bodycopy  style  padding    px                                    oysters  street dogs and more...don t forget a cold brew to wash it down. nbsp                             p                                      p class  bodycopy                              a href  http   www.cervetecadtla.com menus happyhour     target   blank  http   www.cervetecadtla.com menus happyhour     a             p                                    td                       tr                    table                   br                          table border     cellpadding     celspacing                        tr                                                 td valign  top   img src  images otherimages ilruntonys saloon.jpg  width       style  border   px solid  eeeeee     td                                                 td valign  top  style  padding left    px                                                    p class  calendar eventtitle  style  color                                        a href      directory businessdetails.asp bid  3    tony s saloon  a  nbsp  a href  happyhoursrss.xml  target   blank   img src  images global icon rss small.gif  border   alt  rss feed    a                             p                            p class  bodycopy                                  e.  th st.                            p                                                      p class  bodycopy  style  padding    px                                     strong mon   sun       pm        pm br     strong                             p                            p class  bodycopy  style  padding    px                                       well cocktails     draft beers     specialty cocktails div pizza+beer+shot deals        3  div  div  br   div                             p                                      p class  bodycopy                              a href  http     3nightlife.com tonyssaloon  target   blank  http     3nightlife.com tonyssaloon  a             p                                    td                       tr                    table                   br                                    table border     cellpadding     celspacing     width                           tr                       td valign  middle  class  bucketheadine  style  padding right   px                           civic nbsp center                         td                         td valign  middle  width                                 div style  height   px  border top   px solid  f   3      div                          td                       tr                    table                   br                          table border     cellpadding     celspacing                        tr                                                 td valign  top   img src  images global spacer.gif  width         td                                              td valign  top  style  padding left    px                                                    p class  calendar eventtitle  style  color                                        a href      directory businessdetails.asp bid       ebanos crossing  a  nbsp  a href  happyhoursrss.xml  target   blank   img src  images global icon rss small.gif  border   alt  rss feed    a                             p                            p class  bodycopy                                 s. hill st                            p                                                      p class  bodycopy  style  padding    px                                     strong crossing hour  tue   fri       pm        pm br     strong                             p                            p class  bodycopy  style  padding    px                                     br                             p                                      p class  bodycopy                              a href  http   www.ebanoscrossing.com  target   blank  http   www.ebanoscrossing.com  a             p                                    td                       tr                    table                   br                          table border     cellpadding     celspacing                        tr                                                 td valign  top   img src  images otherimages bdwczebanos crossing  .jpg  width       style  border   px solid  eeeeee     td                                                 td valign  top  style  padding left    px                                                    p class  calendar eventtitle  style  color                                        a href      directory businessdetails.asp bid       ebanos crossing  a  nbsp  a href  happyhoursrss.xml  target   blank   img src  images global icon rss small.gif  border   alt  rss feed    a                             p                            p class  bodycopy                                 s. hill st                            p                                                      p class  bodycopy  style  padding    px                                     strong crossing hour  tue   fri       pm        pm br     strong                             p                            p class  bodycopy  style  padding    px                                     div  div     off our specialty craft cocktail menu  draft beer  amp  wine        div  div     off  nbsp our appetizer menu  with such bites a jerk wings in a rum reduction sauce  amp  chili con queso  div   div  div  br   div  div  br   div  div  div  br   div   div                             p                                      p class  bodycopy                              a href  http   www.ebanoscrossing.com  target   blank  http   www.ebanoscrossing.com  a             p                                    td                       tr                    table                   br                          table border     cellpadding     celspacing                        tr                                                 td valign  top   img src  images otherimages ggfwbredwood.jpg  width       style  border   px solid  eeeeee     td                                                 td valign  top  style  padding left    px                                                    p class  calendar eventtitle  style  color                                        a href      directory businessdetails.asp bid      redwood bar   grill  a  nbsp  a href  happyhoursrss.xml  target   blank   img src  images global icon rss small.gif  border   alt  rss feed    a                             p                            p class  bodycopy                             3   w.  nd st.                            p                                                      p class  bodycopy  style  padding    px                                     strong mon   fri  3    pm        pm br     strong                             p                            p class  bodycopy  style  padding    px                                                                p                                      p class  bodycopy                              a href  http   www.theredwoodbar.com      calendar.html  target   blank  http   www.theredwoodbar.com      calendar.html  a             p                                    td                       tr                    table                   br                                    table border     cellpadding     celspacing     width                           tr                       td valign  middle  class  bucketheadine  style  padding right   px                           el nbsp pueblo                         td                         td valign  middle  width                                 div style  height   px  border top   px solid  f   3      div                          td                       tr                    table                   br                          table border     cellpadding     celspacing                        tr                                                 td valign  top   img src  images otherimages dntluphilippe.jpg  width       style  border   px solid  eeeeee     td                                                 td valign  top  style  padding left    px                                                    p class  calendar eventtitle  style  color                                        a href      directory businessdetails.asp bid   3  philippe the original  a  nbsp  a href  happyhoursrss.xml  target   blank   img src  images global icon rss small.gif  border   alt  rss feed    a                             p                            p class  bodycopy                                  n. alameda st.                            p                                                      p class  bodycopy  style  padding    px                                     strong mon   fri  3    pm        pm br     strong                             p                            p class  bodycopy  style  padding    px                                       off draft beer     oz size  and wine by the glass                            p                                      p class  bodycopy                              a href  http   www.philippes.com   target   blank  http   www.philippes.com   a             p                                    td                       tr                    table                   br                                    table border     cellpadding     celspacing     width                           tr                       td valign  middle  class  bucketheadine  style  padding right   px                           fashion nbsp district                         td                         td valign  middle  width                                 div style  height   px  border top   px solid  f   3      div                          td                       tr                    table                   br                          table border     cellpadding     celspacing                        tr                                                 td valign  top   img src  images otherimages dzgnbpj logo.jpg  width       style  border   px solid  eeeeee     td                                                 td valign  top  style  padding left    px                                                    p class  calendar eventtitle  style  color                                        a href      directory businessdetails.asp bid    3  pressed juicery  a  nbsp  a href  happyhoursrss.xml  target   blank   img src  images global icon rss small.gif  border   alt  rss feed    a                             p                            p class  bodycopy                                 s. los angeles st                            p                                                      p class  bodycopy  style  padding    px                                     strong happy hour  mon   sun  3    pm        pm br     strong                             p                            p class  bodycopy  style  padding    px                                        off everything in the store every day of the week.                            p                                      p class  bodycopy                              a href  www.pressedjuicery.com  target   blank  www.pressedjuicery.com  a             p                                    td                       tr                    table                   br                                    table border     cellpadding     celspacing     width                           tr                       td valign  middle  class  bucketheadine  style  padding right   px                           historic nbsp downtown                         td                         td valign  middle  width                                 div style  height   px  border top   px solid  f   3      div                          td                       tr                    table                   br                          table border     cellpadding     celspacing                        tr                                                 td valign  top   img src  images otherimages xzcdmliquor.jpg  width       style  border   px solid  eeeeee     td                                                 td valign  top  style  padding left    px                                                    p class  calendar eventtitle  style  color                                        a href      directory businessdetails.asp bid       artisan house  a  nbsp  a href  happyhoursrss.xml  target   blank   img src  images global icon rss small.gif  border   alt  rss feed    a                             p                            p class  bodycopy                                 s. main st.                            p                                                      p class  bodycopy  style  padding    px                                     strong   strong                             p                            p class  bodycopy  style  padding    px                                     font size   face verdana    artisan pizzas  well drinks  draft beer  house wines  font                             p                                      p class  bodycopy                              a href  http   artisanhouse.net  target   blank  http   artisanhouse.net  a             p                                    td                       tr                    table                   br                          table border     cellpadding     celspacing                        tr                                                 td valign  top   img src  images otherimages lavhcbroadway main.png  width       style  border   px solid  eeeeee     td                                                 td valign  top  style  padding left    px                                                    p class  calendar eventtitle  style  color                                        a href      directory businessdetails.asp bid      broadway bar  a  nbsp  a href  happyhoursrss.xml  target   blank   img src  images global icon rss small.gif  border   alt  rss feed    a                             p                            p class  bodycopy                              3  s. broadway                            p                                                      p class  bodycopy  style  padding    px                                     strong tue   fri       pm        pm br     strong                             p                            p class  bodycopy  style  padding    px                                     3 off everything                            p                                      p class  bodycopy                              a href  http     3nightlife.com broadwaybar  target   blank  http     3nightlife.com broadwaybar  a             p                                    td                       tr                    table                   br                          table border     cellpadding     celspacing                        tr                                                 td valign  top   img src  images otherimages nholobugis street bar.jpg  width       style  border   px solid  eeeeee     td                                                 td valign  top  style  padding left    px                                                    p class  calendar eventtitle  style  color                                        a href      directory businessdetails.asp bid   3   bugis street brasserie  a  nbsp  a href  happyhoursrss.xml  target   blank   img src  images global icon rss small.gif  border   alt  rss feed    a                             p                            p class  bodycopy                                 s. olive st.                            p                                                      p class  bodycopy  style  padding    px                                     strong mon   fri  3    pm        pm br     strong                             p                            p class  bodycopy  style  padding    px                                     font face  arial  sans serif  biltmore hotel s authentic singaporean chinese restaurant offering unique flavors coupled with specialty beverages in a casual environment.  font                             p                                      p class  bodycopy                              a href  http   www.milleniumhotels.com  target   blank  http   www.milleniumhotels.com  a             p                                    td                       tr                    table                   br                          table border     cellpadding     celspacing                        tr                                                 td valign  top   img src  images otherimages bdsancoles.png  width       style  border   px solid  eeeeee     td                                                 td valign  top  style  padding left    px                                                    p class  calendar eventtitle  style  color                                        a href      directory businessdetails.asp bid 3    cole s french dip  a  nbsp  a href  happyhoursrss.xml  target   blank   img src  images global icon rss small.gif  border   alt  rss feed    a                             p                            p class  bodycopy                                 e.  th st.                            p                                                      p class  bodycopy  style  padding    px                                     strong mon   mon  wed   fri  3    pm        pm br     strong                             p                            p class  bodycopy  style  padding    px                                       french dip slider trio w  fries     bbq pork slider trio w  fries     old fashioned     draft beer     fries     tots div  br   div  div happy hour all day tuesday  div                             p                                      p class  bodycopy                              a href  http     3nightlife.com colesfrenchdip  target   blank  http     3nightlife.com colesfrenchdip  a             p                                    td                       tr                    table                   br                          table border     cellpadding     celspacing                        tr                                                 td valign  top   img src  images global spacer.gif  width         td                                              td valign  top  style  padding left    px                                                    p class  calendar eventtitle  style  color                                        a href      directory businessdetails.asp bid  33   la cita  a  nbsp  a href  happyhoursrss.xml  target   blank   img src  images global icon rss small.gif  border   alt  rss feed    a                             p                            p class  bodycopy                             33  s. hill st.                            p                                                      p class  bodycopy  style  padding    px                                     strong angry hour on el patio  fri       pm        pm br     strong                             p                            p class  bodycopy  style  padding    px                                    it s angry hour   punk rock  hardcore and beyond at la cita  la s best punk rock happy hour every friday.                            p                                      p class  bodycopy                              a href  http   site.lacitabar.com  target   blank  http   site.lacitabar.com  a             p                                    td                       tr                    table                   br                          table border     cellpadding     celspacing                        tr                                                 td valign  top   img src  images global spacer.gif  width         td                                              td valign  top  style  padding left    px                                                    p class  calendar eventtitle  style  color                                        a href      directory businessdetails.asp bid  33   la cita  a  nbsp  a href  happyhoursrss.xml  target   blank   img src  images global icon rss small.gif  border   alt  rss feed    a                             p                            p class  bodycopy                             33  s. hill st.                            p                                                      p class  bodycopy  style  padding    px                                     strong sunday bloody sunday on el patio  sun       pm        pm br     strong                             p                            p class  bodycopy  style  padding    px                                     i los angeles  i   best and original build your own bloody mary bar  awarded  i la weekly  i  s best bloody mary and best michelada.                            p                                      p class  bodycopy                              a href  http   site.lacitabar.com  target   blank  http   site.lacitabar.com  a             p                                    td                       tr                    table                   br                          table border     cellpadding     celspacing                        tr                                                 td valign  top   img src  images global spacer.gif  width         td                                              td valign  top  style  padding left    px                                                    p class  calendar eventtitle  style  color                                        a href      directory businessdetails.asp bid  33   la cita  a  nbsp  a href  happyhoursrss.xml  target   blank   img src  images global icon rss small.gif  border   alt  rss feed    a                             p                            p class  bodycopy                             33  s. hill st.                            p                                                      p class  bodycopy  style  padding    px                                     strong afternoon delight on el patio  sat       pm        pm br     strong                             p                            p class  bodycopy  style  padding    px                                     font face  arial  sans serif  yacht rock and happy hour prices on the patio  hosted by calixto and jimmy james.  font                             p                                      p class  bodycopy                              a href  http   site.lacitabar.com  target   blank  http   site.lacitabar.com  a             p                                    td                       tr                    table                   br                          table border     cellpadding     celspacing                        tr                                                 td valign  top   img src  images global spacer.gif  width         td                                              td valign  top  style  padding left    px                                                    p class  calendar eventtitle  style  color                                        a href      directory businessdetails.asp bid  33   la cita  a  nbsp  a href  happyhoursrss.xml  target   blank   img src  images global icon rss small.gif  border   alt  rss feed    a                             p                            p class  bodycopy                             33  s. hill st.                            p                                                      p class  bodycopy  style  padding    px                                     strong week days on el patio  mon   fri       pm        pm br     strong                             p                            p class  bodycopy  style  padding    px                                     font face  arial  sans serif   3 domestics  amp  tecate     wells  font                             p                                      p class  bodycopy                              a href  http   site.lacitabar.com  target   blank  http   site.lacitabar.com  a             p                                    td                       tr                    table                   br                          table border     cellpadding     celspacing                        tr                                                 td valign  top   img src  images global spacer.gif  width         td                                              td valign  top  style  padding left    px                                                    p class  calendar eventtitle  style  color                                        a href      directory businessdetails.asp bid  33   la cita  a  nbsp  a href  happyhoursrss.xml  target   blank   img src  images global icon rss small.gif  border   alt  rss feed    a                             p                            p class  bodycopy                             33  s. hill st.                            p                                                      p class  bodycopy  style  padding    px                                     strong every day indoors  mon   sun        am        pm br     strong                             p                            p class  bodycopy  style  padding    px                                     font face  arial  sans serif   3 domestics  amp  tecate     wells  font                             p                                      p class  bodycopy                              a href  http   site.lacitabar.com  target   blank  http   site.lacitabar.com  a             p                                    td                       tr                    table                   br                          table border     cellpadding     celspacing                        tr                                                 td valign  top   img src  images otherimages pisgjperlas main.png  width       style  border   px solid  eeeeee     td                                                 td valign  top  style  padding left    px                                                    p class  calendar eventtitle  style  color                                        a href      directory businessdetails.asp bid  3   las perlas  a  nbsp  a href  happyhoursrss.xml  target   blank   img src  images global icon rss small.gif  border   alt  rss feed    a                             p                            p class  bodycopy                                 e.  th st.                            p                                                      p class  bodycopy  style  padding    px                                     strong tue   fri       pm        pm br     strong                             p                            p class  bodycopy  style  padding    px                                       off cocktails and spirits     off beer and wine                            p                                      p class  bodycopy                              a href  http     3nightlife.com lasperlas  target   blank  http     3nightlife.com lasperlas  a             p                                    td                       tr                    table                   br                          table border     cellpadding     celspacing                        tr                                                 td valign  top   img src  images otherimages mdxaymrs.fish .jpg  width       style  border   px solid  eeeeee     td                                                 td valign  top  style  padding left    px                                                    p class  calendar eventtitle  style  color                                        a href      directory businessdetails.asp bid       mrs. fish  a  nbsp  a href  happyhoursrss.xml  target   blank   img src  images global icon rss small.gif  border   alt  rss feed    a                             p                            p class  bodycopy                                 s hill street basement                            p                                                      p class  bodycopy  style  padding    px                                     strong cavi hour  wed   fri       pm        pm br     strong                             p                            p class  bodycopy  style  padding    px                                    specials on caviar  small bites  specialty cocktails  beer and wine   nbsp free  live music every night.                            p                                      p class  bodycopy                              a href  http   www.mrsfish.com  target   blank  http   www.mrsfish.com  a             p                                    td                       tr                    table                   br                          table border     cellpadding     celspacing                        tr                                                 td valign  top   img src  images otherimages kpxsupeking tavern logo.jpg  width       style  border   px solid  eeeeee     td                                                 td valign  top  style  padding left    px                                                    p class  calendar eventtitle  style  color                                        a href      directory businessdetails.asp bid       peking tavern  a  nbsp  a href  happyhoursrss.xml  target   blank   img src  images global icon rss small.gif  border   alt  rss feed    a                             p                            p class  bodycopy                                 s spring st                            p                                                      p class  bodycopy  style  padding    px                                     strong mon   fri       pm        pm br     strong                             p                            p class  bodycopy  style  padding    px                                     div  font face  arial  sans serif  join us after work for    beers     wines     cocktails  and    food items including fri chicken  tomato and egg noodles  and more  selections change periodically.  font   div  div  font face  arial  sans serif   br   font   div  div  font face  arial  sans serif  also enjoy wine wednesdays where all wines are    per glass or     off per bottle   font   div                             p                                      p class  bodycopy                              a href  http   www.pekingtavern.com  target   blank  http   www.pekingtavern.com  a             p                                    td                       tr                    table                   br                          table border     cellpadding     celspacing                        tr                                                 td valign  top   img src  images otherimages uuehzpetes.jpg  width       style  border   px solid  eeeeee     td                                                 td valign  top  style  padding left    px                                                    p class  calendar eventtitle  style  color                                        a href      directory businessdetails.asp bid      pete s cafe   bar  a  nbsp  a href  happyhoursrss.xml  target   blank   img src  images global icon rss small.gif  border   alt  rss feed    a                             p                            p class  bodycopy                                 s. main st.                            p                                                      p class  bodycopy  style  padding    px                                     strong   strong                             p                            p class  bodycopy  style  padding    px                                     p specially priced drinks and bar menu.   p    p party of    or more   order one drink per person and recieve free nachos on the house.  limit one per table   p                             p                                      p class  bodycopy                              a href  http   www.petescafe.com index.html  target   blank  http   www.petescafe.com index.html  a             p                                    td                       tr                    table                   br                          table border     cellpadding     celspacing                        tr                                                 td valign  top   img src  images otherimages gphrssprint st.bmp  width       style  border   px solid  eeeeee     td                                                 td valign  top  style  padding left    px                                                    p class  calendar eventtitle  style  color                                        a href      directory businessdetails.asp bid   3  spring street bar  a  nbsp  a href  happyhoursrss.xml  target   blank   img src  images global icon rss small.gif  border   alt  rss feed    a                             p                            p class  bodycopy                                 s. spring st.                            p                                                      p class  bodycopy  style  padding    px                                     strong mon   sun       pm        pm br     strong                             p                            p class  bodycopy  style  padding    px                                       beer specials     well drinks     house wine                            p                                      p class  bodycopy                              a href  http   springstla.com   target   blank  http   springstla.com   a             p                                    td                       tr                    table                   br                          table border     cellpadding     celspacing                        tr                                                 td valign  top   img src  images otherimages njfysthe associations.jpg  width       style  border   px solid  eeeeee     td                                                 td valign  top  style  padding left    px                                                    p class  calendar eventtitle  style  color                                        a href      directory businessdetails.asp bid      the association  a  nbsp  a href  happyhoursrss.xml  target   blank   img src  images global icon rss small.gif  border   alt  rss feed    a                             p                            p class  bodycopy                                 e.  th st.                            p                                                      p class  bodycopy  style  padding    px                                     strong monday friday    pm  mon   fri       pm        pm br     strong                             p                            p class  bodycopy  style  padding    px                                       signature cocktails     beers   3   bar snacks  amp     house wines                            p                                      p class  bodycopy                              a href  http   www.theassociation la.com   target   blank  http   www.theassociation la.com   a             p                                    td                       tr                    table                   br                          table border     cellpadding     celspacing                        tr                                                 td valign  top   img src  images otherimages lxqlvcrocker.bmp  width       style  border   px solid  eeeeee     td                                                 td valign  top  style  padding left    px                                                    p class  calendar eventtitle  style  color                                        a href      directory businessdetails.asp bid  3   the crocker club  a  nbsp  a href  happyhoursrss.xml  target   blank   img src  images global icon rss small.gif  border   alt  rss feed    a                             p                            p class  bodycopy                               3 s. spring st.                            p                                                      p class  bodycopy  style  padding    px                                     strong thu   fri       pm     3  pm br   wed       pm        am br     strong                             p                            p class  bodycopy  style  padding    px                                                                p                                      p class  bodycopy                              a href  http   crockerclub.com   target   blank  http   crockerclub.com   a             p                                    td                       tr                    table                   br                          table border     cellpadding     celspacing                        tr                                                 td valign  top   img src  images otherimages mugauob logo copy .jpg  width       style  border   px solid  eeeeee     td                                                 td valign  top  style  padding left    px                                                    p class  calendar eventtitle  style  color                                        a href      directory businessdetails.asp bid    3  the dfm  a  nbsp  a href  happyhoursrss.xml  target   blank   img src  images global icon rss small.gif  border   alt  rss feed    a                             p                            p class  bodycopy                                 s. spring st.                            p                                                      p class  bodycopy  style  padding    px                                     strong owl s hour at the brew stand  fri       pm        pm br     strong                             p                            p class  bodycopy  style  padding    px                                    owl s brew are tea s that are uniquely crafted for cocktails. owl s brew is hosting a summer long happy hour program at the dfm  in downtown la  where they will serve   cent cocktails  collect your spare change and hit the town   nbsp happy hour in la just got a  hoot  lot sweeter. div  br   div  div available every friday until august         . br  div  br   div  div  br   div   div                             p                                      p class  bodycopy                              a href  www.theowlsbrew.com  target   blank  www.theowlsbrew.com  a             p                                    td                       tr                    table                   br                          table border     cellpadding     celspacing                        tr                                                 td valign  top   img src  images otherimages vfffbedison.jpg  width       style  border   px solid  eeeeee     td                                                 td valign  top  style  padding left    px                                                    p class  calendar eventtitle  style  color                                        a href      directory businessdetails.asp bid      the edison  a  nbsp  a href  happyhoursrss.xml  target   blank   img src  images global icon rss small.gif  border   alt  rss feed    a                             p                            p class  bodycopy                                 w.  nd st.                            p                                                      p class  bodycopy  style  padding    px                                     strong wed   fri       pm        pm br     strong                             p                            p class  bodycopy  style  padding    px                                                                p                                      p class  bodycopy                              a href  http   www.edisondowntown.com   target   blank  http   www.edisondowntown.com   a             p                                    td                       tr                    table                   br                          table border     cellpadding     celspacing                        tr                                                 td valign  top   img src  images otherimages wuoyothefalls.jpg  width       style  border   px solid  eeeeee     td                                                 td valign  top  style  padding left    px                                                    p class  calendar eventtitle  style  color                                        a href      directory businessdetails.asp bid   3  the falls  a  nbsp  a href  happyhoursrss.xml  target   blank   img src  images global icon rss small.gif  border   alt  rss feed    a                             p                            p class  bodycopy                                 s. spring st.                            p                                                      p class  bodycopy  style  padding    px                                     strong mon   thu  sun       pm        pm br     strong                             p                            p class  bodycopy  style  padding    px                                     p specialty cocktails     well     beer and a shot     beer      p    p complimentary snacks  p    p     off with dtla residency card  p                             p                                      p class  bodycopy                              a href  http   thefallslounge.com   target   blank  http   thefallslounge.com   a             p                                    td                       tr                    table                   br                          table border     cellpadding     celspacing                        tr                                                 td valign  top   img src  images otherimages ekdbugorbals.jpg  width       style  border   px solid  eeeeee     td                                                 td valign  top  style  padding left    px                                                    p class  calendar eventtitle  style  color                                        a href      directory businessdetails.asp bid      the gorbals  a  nbsp  a href  happyhoursrss.xml  target   blank   img src  images global icon rss small.gif  border   alt  rss feed    a                             p                            p class  bodycopy                                  th street                            p                                                      p class  bodycopy  style  padding    px                                     strong mon   fri       pm     3  pm br   late night happy hour  mon   wed        pm         pm br     strong                             p                            p class  bodycopy  style  padding    px                                    food specials and all bar items are     off                            p                                      p class  bodycopy                              a href  http   www.thegorbalsla.com   target   blank  http   www.thegorbalsla.com   a             p                                    td                       tr                    table                   br                                    table border     cellpadding     celspacing     width                           tr                       td valign  middle  class  bucketheadine  style  padding right   px                           little nbsp tokyo                         td                         td valign  middle  width                                 div style  height   px  border top   px solid  f   3      div                          td                       tr                    table                   br                          table border     cellpadding     celspacing                        tr                                                 td valign  top   img src  images otherimages evtqntoranoko sashimi.jpg  width       style  border   px solid  eeeeee     td                                                 td valign  top  style  padding left    px                                                    p class  calendar eventtitle  style  color                                        a href      directory businessdetails.asp bid 33  aburiya toranoko  a  nbsp  a href  happyhoursrss.xml  target   blank   img src  images global icon rss small.gif  border   alt  rss feed    a                             p                            p class  bodycopy                               3 s. san pedro st.                            p                                                      p class  bodycopy  style  padding    px                                     strong dining room  mon   fri       pm        pm br   bar only  mon   fri       pm         pm br     strong                             p                            p class  bodycopy  style  padding    px                                    choose from six different  3 drinks and eight delicious    dishes.                            p                                      p class  bodycopy                              a href  http   www.toranokola.com menu happy hour.html  target   blank  http   www.toranokola.com menu happy hour.html  a             p                                    td                       tr                    table                   br                          table border     cellpadding     celspacing                        tr                                                 td valign  top   img src  images otherimages qhxsyfarbar logo.png  width       style  border   px solid  eeeeee     td                                                 td valign  top  style  padding left    px                                                    p class  calendar eventtitle  style  color                                        a href      directory businessdetails.asp bid       far bar  a  nbsp  a href  happyhoursrss.xml  target   blank   img src  images global icon rss small.gif  border   alt  rss feed    a                             p                            p class  bodycopy                             3   e.  st st.                            p                                                      p class  bodycopy  style  padding    px                                     strong mon   fri  3    pm        pm br   sun  3    pm        am br     strong                             p                            p class  bodycopy  style  padding    px                                                                p                                      p class  bodycopy                              a href  http   farbarla.com   target   blank  http   farbarla.com   a             p                                    td                       tr                    table                   br                          table border     cellpadding     celspacing                        tr                                                 td valign  top   img src  images otherimages inygkfuga.jpg  width       style  border   px solid  eeeeee     td                                                 td valign  top  style  padding left    px                                                    p class  calendar eventtitle  style  color                                        a href      directory businessdetails.asp bid       izakaya fu ga  a  nbsp  a href  happyhoursrss.xml  target   blank   img src  images global icon rss small.gif  border   alt  rss feed    a                             p                            p class  bodycopy                                 s. san pedro st.                            p                                                      p class  bodycopy  style  padding    px                                     strong mon   sun       pm        pm br     strong                             p                            p class  bodycopy  style  padding    px                                                                p                                      p class  bodycopy                              a href  http   izakayafu ga.com   target   blank  http   izakayafu ga.com   a             p                                    td                       tr                    table                   br                          table border     cellpadding     celspacing                        tr                                                 td valign  top   img src  images otherimages uwvwojustice masthead nowopen.jpg  width       style  border   px solid  eeeeee     td                                                 td valign  top  style  padding left    px                                                    p class  calendar eventtitle  style  color                                        a href      directory businessdetails.asp bid       justice urban tavern  a  nbsp  a href  happyhoursrss.xml  target   blank   img src  images global icon rss small.gif  border   alt  rss feed    a                             p                            p class  bodycopy                                 s. los angeles st.                            p                                                      p class  bodycopy  style  padding    px                                     strong join us for happy hour  mon   fri  3    pm        pm br     strong                             p                            p class  bodycopy  style  padding    px                                          beers and daily food specials including signature house smoked wings  fried calamari and mushroom flatbreads.                            p                                      p class  bodycopy                              a href  http   www.justicela.com images menus social hour menu.pdf  target   blank  http   www.justicela.com images menus social hour menu.pdf  a             p                                    td                       tr                    table                   br                          table border     cellpadding     celspacing                        tr                                                 td valign  top   img src  images otherimages bmppclazy ox pig ear.jpg  width       style  border   px solid  eeeeee     td                                                 td valign  top  style  padding left    px                                                    p class  calendar eventtitle  style  color                                        a href      directory businessdetails.asp bid      lazy ox canteen  a  nbsp  a href  happyhoursrss.xml  target   blank   img src  images global icon rss small.gif  border   alt  rss feed    a                             p                            p class  bodycopy                                 s. san pedro st.                            p                                                      p class  bodycopy  style  padding    px                                     strong mon   fri  sun       pm        pm br     strong                             p                            p class  bodycopy  style  padding    px                                    half off all beers on draught  sangria  red and white wine  and half off selected dishes such as our to die for pig ear chicharrones  shrimp fritters  and polenta.                            p                                      p class  bodycopy                              a href  http   www.lazyoxcanteen.com menus dinner     target   blank  http   www.lazyoxcanteen.com menus dinner     a             p                                    td                       tr                    table                   br                          table border     cellpadding     celspacing                        tr                                                 td valign  top   img src  images otherimages umgsuescondite.gif  width       style  border   px solid  eeeeee     td                                                 td valign  top  style  padding left    px                                                    p class  calendar eventtitle  style  color                                        a href      directory businessdetails.asp bid      the escondite  a  nbsp  a href  happyhoursrss.xml  target   blank   img src  images global icon rss small.gif  border   alt  rss feed    a                             p                            p class  bodycopy                                 boyd st.                            p                                                      p class  bodycopy  style  padding    px                                     strong mon   fri       pm        pm br     strong                             p                            p class  bodycopy  style  padding    px                                                                p                                      p class  bodycopy                              a href  http   theescondite.com index.html  target   blank  http   theescondite.com index.html  a             p                                    td                       tr                    table                   br                                    table border     cellpadding     celspacing     width                           tr                       td valign  middle  class  bucketheadine  style  padding right   px                           south nbsp park                         td                         td valign  middle  width                                 div style  height   px  border top   px solid  f   3      div                          td                       tr                    table                   br                          table border     cellpadding     celspacing                        tr                                                 td valign  top   img src  images otherimages zgwcz  dsc      .jpg  width       style  border   px solid  eeeeee     td                                                 td valign  top  style  padding left    px                                                    p class  calendar eventtitle  style  color                                        a href      directory businessdetails.asp bid     arashi sushi  a  nbsp  a href  happyhoursrss.xml  target   blank   img src  images global icon rss small.gif  border   alt  rss feed    a                             p                            p class  bodycopy                                  s. hope st.                            p                                                      p class  bodycopy  style  padding    px                                     strong   strong                             p                            p class  bodycopy  style  padding    px                                       robata yaki and     price on selected sushi  rolls  and sake                            p                                      p class  bodycopy                              a href  http   arashisushi.com  target   blank  http   arashisushi.com  a             p                                    td                       tr                    table                   br                          table border     cellpadding     celspacing                        tr                                                 td valign  top   img src  images otherimages vfnmrbottlerock.jpg  width       style  border   px solid  eeeeee     td                                                 td valign  top  style  padding left    px                                                    p class  calendar eventtitle  style  color                                        a href      directory businessdetails.asp bid      bottlerock  a  nbsp  a href  happyhoursrss.xml  target   blank   img src  images global icon rss small.gif  border   alt  rss feed    a                             p                            p class  bodycopy                                  s. flower st.                            p                                                      p class  bodycopy  style  padding    px                                     strong mon   fri    3  pm        pm br     strong                             p                            p class  bodycopy  style  padding    px                                     p  font size     face  verdana  sample plates ranging from        and beers on tap and wine from        font   p                             p                                      p class  bodycopy                              a href  http   bottlerockla.com  target   blank  http   bottlerockla.com  a             p                                    td                       tr                    table                   br                          table border     cellpadding     celspacing                        tr                                                 td valign  top   img src  images otherimages vjhjicana main.png  width       style  border   px solid  eeeeee     td                                                 td valign  top  style  padding left    px                                                    p class  calendar eventtitle  style  color                                        a href      directory businessdetails.asp bid      cana rum bar at the doheny  a  nbsp  a href  happyhoursrss.xml  target   blank   img src  images global icon rss small.gif  border   alt  rss feed    a                             p                            p class  bodycopy                                 w. olympic blvd.                            p                                                      p class  bodycopy  style  padding    px                                     strong tue   fri       pm        pm br     strong                             p                            p class  bodycopy  style  padding    px                                     p  nbsp   p                             p                                      p class  bodycopy                              a href  http     3nightlife.com canarumbar  target   blank  http     3nightlife.com canarumbar  a             p                                    td                       tr                    table                   br                          table border     cellpadding     celspacing                        tr                                                 td valign  top   img src  images otherimages vggsuespnzone3.jpg  width       style  border   px solid  eeeeee     td                                                 td valign  top  style  padding left    px                                                    p class  calendar eventtitle  style  color                                        a href      directory businessdetails.asp bid       espn zone at l.a. live  a  nbsp  a href  happyhoursrss.xml  target   blank   img src  images global icon rss small.gif  border   alt  rss feed    a                             p                            p class  bodycopy                                  s. figueroa st.                            p                                                      p class  bodycopy  style  padding    px                                     strong mon   fri       pm        pm br     strong                             p                            p class  bodycopy  style  padding    px                                     3    drink specials        food specials. recieve     game card with a minimum     check.                            p                                      p class  bodycopy                              a href  http   www.lalive.com concierge detail espn zone  target   blank  http   www.lalive.com concierge detail espn zone  a             p                                    td                       tr                    table                   br                          table border     cellpadding     celspacing                        tr                                                 td valign  top   img src  images otherimages wrhuxthe farm.jpg  width       style  border   px solid  eeeeee     td                                                 td valign  top  style  padding left    px                                                    p class  calendar eventtitle  style  color                                        a href      directory businessdetails.asp bid       farm of beverly hills  a  nbsp  a href  happyhoursrss.xml  target   blank   img src  images global icon rss small.gif  border   alt  rss feed    a                             p                            p class  bodycopy                                 w. olympic blvd.                            p                                                      p class  bodycopy  style  padding    px                                     strong mon   sun       pm        pm br     strong                             p                            p class  bodycopy  style  padding    px                                                                p                                      p class  bodycopy                              a href  http   www.thefarmofbeverlyhills.com la live.shtml  target   blank  http   www.thefarmofbeverlyhills.com la live.shtml  a             p                                    td                       tr                    table                   br                          table border     cellpadding     celspacing                        tr                                                 td valign  top   img src  images otherimages hnmcnflemings.jpg  width       style  border   px solid  eeeeee     td                                                 td valign  top  style  padding left    px                                                    p class  calendar eventtitle  style  color                                        a href      directory businessdetails.asp bid       fleming s prime steakhouse  a  nbsp  a href  happyhoursrss.xml  target   blank   img src  images global icon rss small.gif  border   alt  rss feed    a                             p                            p class  bodycopy                                 w. olympic blvd.                            p                                                      p class  bodycopy  style  padding    px                                     strong mon   sun       pm        pm br     strong                             p                            p class  bodycopy  style  padding    px                                            bar menu  featuring   tempting appetizers    premium cocktails and   distinctive wines by the glass   each priced at                               p                                      p class  bodycopy                              a href  http   www.flemingssteakhouse.com locations ca los angeles  target   blank  http   www.flemingssteakhouse.com locations ca los angeles  a             p                                    td                       tr                    table                   br                          table border     cellpadding     celspacing                        tr                                                 td valign  top   img src  images otherimages bduprkatsuya3.jpg  width       style  border   px solid  eeeeee     td                                                 td valign  top  style  padding left    px                                                    p class  calendar eventtitle  style  color                                        a href      directory businessdetails.asp bid  3    katsuya  a  nbsp  a href  happyhoursrss.xml  target   blank   img src  images global icon rss small.gif  border   alt  rss feed    a                             p                            p class  bodycopy                                 w. olympic blvd.                            p                                                      p class  bodycopy  style  padding    px                                     strong mon   fri       pm        pm br     strong                             p                            p class  bodycopy  style  padding    px                                    some exclusions apply                            p                                      p class  bodycopy                              a href  http   www.lalive.com concierge detail katsuya at la live  target   blank  http   www.lalive.com concierge detail katsuya at la live  a             p                                    td                       tr                    table                   br                          table border     cellpadding     celspacing                        tr                                                 td valign  top   img src  images otherimages sjpnrrock n fish.jpg  width       style  border   px solid  eeeeee     td                                                 td valign  top  style  padding left    px                                                    p class  calendar eventtitle  style  color                                        a href      directory businessdetails.asp bid 3    rock n fish  a  nbsp  a href  happyhoursrss.xml  target   blank   img src  images global icon rss small.gif  border   alt  rss feed    a                             p                            p class  bodycopy                                 w. olympic blvd.                            p                                                      p class  bodycopy  style  padding    px                                     strong mon   fri  3    pm        pm br     strong                             p                            p class  bodycopy  style  padding    px                                                                p                                      p class  bodycopy                              a href  http   rocknfishrestaurants.com htm la home.shtml  target   blank  http   rocknfishrestaurants.com htm la home.shtml  a             p                                    td                       tr                    table                   br                          table border     cellpadding     celspacing                        tr                                                 td valign  top   img src  images otherimages vdxzblogo.png  width       style  border   px solid  eeeeee     td                                                 td valign  top  style  padding left    px                                                    p class  calendar eventtitle  style  color                                        a href      directory businessdetails.asp bid       the belasco theater  a  nbsp  a href  happyhoursrss.xml  target   blank   img src  images global icon rss small.gif  border   alt  rss feed    a                             p                            p class  bodycopy                                  s. hill street                            p                                                      p class  bodycopy  style  padding    px                                     strong happy hour  thu   fri       pm        pm br     strong                             p                            p class  bodycopy  style  padding    px                                    a relic of the early     s  the belasco theater has lay dormant for more than    years and is making its grand debut once again. located on hill street in the heart of downtown los angeles  the belasco is now a multi purpose event and entertainment complex. its production potential is unrivaled in southern california  as the venue houses the largest d amp b audiotechnik sound system in the region as well as a state of the art lighting system. from nightlife to special events to fine dining  the modern reimagining of this historic theatre has something to satisfy all tastes and interests. nbsp  div  br   div  div happy hour specials   nbsp    domestic  amp   3 import beers     well drinks  div                             p                                      p class  bodycopy                              a href  http   www.thebelascotheater.com  target   blank  http   www.thebelascotheater.com  a             p                                    td                       tr                    table                   br                          table border     cellpadding     celspacing                        tr                                                 td valign  top   img src  images global spacer.gif  width         td                                              td valign  top  style  padding left    px                                                    p class  calendar eventtitle  style  color                                        a href      directory businessdetails.asp bid       triple   china bar   grill  a  nbsp  a href  happyhoursrss.xml  target   blank   img src  images global icon rss small.gif  border   alt  rss feed    a                             p                            p class  bodycopy                                 w. olympic blvd.  suite a                                p                                                      p class  bodycopy  style  padding    px                                     strong late night happy hour  mon   sun        pm        am br   happy hour  mon   sun  3    pm        pm br     strong                             p                            p class  bodycopy  style  padding    px                                       well drinks     off draft beers     select wines  amp  sake div  br   div  div  br   div                             p                                      p class  bodycopy                              a href  http   triple restaurant.com menu happy hour   target   blank  http   triple restaurant.com menu happy hour   a             p                                    td                       tr                    table                   br                                    img src  images global spacer.gif  height            td        td valign  top  style  padding right    px  padding top   px           div style  width  3  px            script type  text javascript            ga googlefillslot  level  play             script          div class  bucketpadding     table class  bucketcopy      tr      td       a href       downtownguides.asp   img src  images buckets downtownguides feature.jpg  align  left  style  margin right    px   alt  our downtown guides are here to help  border     a       td      td       p class  bucketheadine         a href       downtownguides.asp  downtown guides  a        p       strong looking for something  let us help.  strong  br      have a question  look for our downtown guides  with the signature info symbol on their sleeves. they can provide directions  share printed maps  amp  guides  and more.  a href       downtownguides.asp  more  a       td      tr     table     div    div class  bucketpadding     table class  bucketcopy      tr      td       a href       safeandcleanteams.asp   img src  images buckets purplepatrol feature.jpg  align  left  style  margin right    px   alt  purple patrol  border     a       td      td     p class  bucketheadine       a href       safeandcleanteams.asp  purple patrol  a      p     strong keeping downtown la safe  clean  and friendly.  strong  br    get safety updates with our  a href     3 bidalerts.asp  bid alerts  a   or look for our purple patrol in the downtown center and historic downtown districts.  a href       safeandcleanteams.asp  more  a     td      tr     table     div    div class  bucketpadding     table class  bucketcopy      tr      td     a href        gettingaround.asp   img src  images buckets gettingaround feature.jpg  align  left  style  margin right    px   alt  getting around  border     a      td      td      p class  bucketheadine       a href        gettingaround.asp  getting around  a      p     strong how to get here  strong  br   getting into and around downtown is easier than ever. go metro on four rail lines  ride the dash for    cents  hail a taxi  or find a parking lot.   a href        gettingaround.asp  more  a     td      tr     table     div            br             br          br          div         td        tr       table      div style  position  absolute  width     px  top     px  right     border         table border   cellpadding   cellspacing   height  3   width       align  right      tr      td onmouseover  showdrop  live    onmouseout  hidedrop  live               div id  navliveon  style  position  absolute  left   px  top     display  block          img src   images global spacer.gif  width       height  3   alt  live         div            div id  navliveover  style  position  absolute  left   px  top     width     px  height     px  display  none  z index               a href       live.asp   img src   images global nav live over.gif  border     alt  live    a        div style  position  absolute  top    px  left     background   ffffff  padding left    px  padding top    px  width     px  height                 div class  dropdownnav   a href        housingbustour.asp  housing bus tour  a   div         div class  dropdownnav   a href        maps.asp  maps  a   div         div class  dropdownnav   a href        homeselector.asp  home selector  a   div         div class  dropdownnav   a href      3 healthandeducation.asp  health  amp  education  a   div                   div class  dropdownnav   a href       families.asp  kids  amp  families  a   div         div class  dropdownnav   a href        parking.asp  parking here  a   div         div class  dropdownnav   a href        downtownspecials.asp  downtown specials  a   div         div class  dropdownnav   a href        downtownvideo.asp  living here video  a   div         div class  dropdownnav   a href   dog day     .asp  dog day afternoon  a   div         br         div        div       td      td onmouseover  showdrop  work    onmouseout  hidedrop  work               div id  navworkon  style  position  absolute  left     px  top     display  block          img src   images global spacer.gif  width       height  3   alt  work         div            div id  navworkover  style  position  absolute  left     px  top     width     px  height     px  display  none  z index               a href       work.asp   img src   images global nav work over.gif  border     alt  work    a        div style  position  absolute  top    px  left     background   ffffff  padding left    px  padding top    px  width     px  height                        div class  dropdownnav   a href        statsdemodata.asp  stats  demos  amp  data  a   div         div class  dropdownnav   a href        maps.asp  maps  a   div         div class  dropdownnav   a href        office space.asp  office space  a   div         div class  dropdownnav   a href        investors.asp  investors  amp  developers  a   div         div class  dropdownnav   a href        doingbusinesshere.asp  doing business here  a   div         div class  dropdownnav   a href        availablejobs.asp  available jobs  a   div         div class  dropdownnav   a href        downtownvideo.asp  videos  amp  podcasts  a   div         div class  dropdownnav   a href        healthandeducation.asp  health  amp  education  a   div         div class  dropdownnav   a href        parking.asp  parking here  a   div         div class  dropdownnav   a href        hotels.asp  hotels  a   div         br         div        div       td      td onmouseover  showdrop  play    onmouseout  hidedrop  play               div id  navplayon  style  position  absolute  left     px  top     display  block          img src   images global nav play on.gif  alt  play         div            div id  navplayover  style  position  absolute  left     px  top     width     px  height     px  display  none  z index               a href   3   play.asp   img src   images global nav play over.gif  border     alt  play    a        div style  position  absolute  top    px  left     background   ffffff url  images global nav play over.gif   no repeat      px  padding left    px  padding top    px  width     px  height                 div class  dropdownnav   a href   3    downtownspecials.asp  downtown specials  a   div                   div class  dropdownnav   a href   3    happyhours.asp  happy hours  a   div         div class  dropdownnav   a href   3    maps.asp  downtown maps  a   div         div class  dropdownnav   a href   3  3 artsandentertainment.asp  arts  amp  entertainment  a   div                   div class  dropdownnav   a href       families.asp  kids  amp  families  a   div         div class  dropdownnav   a href   3    dining.asp  dining  a   div         div class  dropdownnav   a href   3    nightlife.asp  nightlife  a   div         div class  dropdownnav   a href   3    hotels.asp  hotels  a   div         div class  dropdownnav   a href   3    sports.asp  sports  a   div         div class  dropdownnav   a href   3    shopping.asp  shopping  a   div         div class  dropdownnav   a href   3    parking.asp  parking here  a   div         br         div        div       td      td onmouseover  showdrop  connect    onmouseout  hidedrop  connect               div id  navconnecton  style  position  absolute  left  3  px  top     display  block          img src   images global spacer.gif  width       height  3   alt  connect         div            div id  navconnectover  style  position  absolute  left  3  px  top     width     px  height     px  display  none  z index                a href       connect.asp   img src   images global nav connect over.gif  border   alt  connect    a        div style  position  absolute  top    px  left     background   ffffff  padding left    px  padding top    px  width     px  height                 div class  dropdownnav   a href        gettingaround.asp  getting around  a   div         div class  dropdownnav   a href        gettinghere.asp  getting here  a   div         div class  dropdownnav   a href        maps.asp  maps  a   div         div class  dropdownnav   a href      3 wifinder.asp  wi finder  a   div         div class  dropdownnav   a href        downtownguides.asp  downtown guides  a   div         div class  dropdownnav   a href        downtownvideo.asp  videos  amp  podcasts  a   div         div class  dropdownnav   a href        neighborhoods.asp  neighborhoods  a   div         div class  dropdownnav   a href        communitylinks.asp  community resources  a   div         div class  dropdownnav   a href        travelideas.asp  travel ideas  a   div         div class  dropdownnav   a href       connectdirectory.asp  downtown directory  a   div         br         div        div       td     tr     table     div       div       td      td rowspan   class  pageborder right  align  left  valign  top   nbsp   td      tr     tr      td style  background  transparent url  images global bg bordertile bottom.gif   repeat x top left    img src  images global bg bordertile bottom.gif    td      tr     table    table border   cellpadding   cellspacing   width    style  margin top    px       tr      td style  padding right    px    a href   index.asp   img src   images global footer logo.gif  border   alt  downtownla.com home    a   td      td valign  bottom        div class  footertoolbar          a href       live.asp  live  a   a href       work.asp  work  a   a href   3   play.asp  play  a   a href       connect.asp  connect  a   a href       connectdirectory.asp  directory  a   a href        calendar.asp  calendar  a   a href      3 askus.asp  ask us   a   a href        safeandcleanteams.asp  safe  amp  clean team  a        div       div class  footertoolbar          a href       aboutus.asp  about us  a   a href       connectdirectory.asp  search  a   a href  javascript  launchlistsignup     subscribe  a   a href        contact.asp  contact  a   a href   promote your business.asp  promote  a   a href        policies.asp  terms  amp  conditions  a   a href        policies.asp  privacy policy  a        div       td      tr     tr      td colspan         p class  footercopyright  style  padding top    px          copy       los angeles downtown center business improvement district       p       td      tr     table    br    div id  interveil    div    script type  text javascript        var  gaq    gaq            gaq.push    setaccount    ua                   gaq.push    trackpageview           function          var ga   document.createelement  script    ga.type    text javascript   ga.async   true       ga.src     https      document.location.protocol    https   ssl     http   www   +  .google analytics.com ga.js        var s   document.getelementsbytagname  script       s.parentnode.insertbefore ga  s                 script    script type  text javascript       a  .each function        var  a     this      var href    a.attr  href            see if the link is external    if    href.match   http          href.match document.domain                 if so  add the ga tracking code       a.click function            pagetracker. trackpageview   outgoing   + href                           var filetypes     doc   xls   pdf   mp3          a  .each function        var  a     this      var href    a.attr  href       var hrefarray   href.split  .       var extension   hrefarray href.length            if   .inarray extension filetypes                 a.click function               get the post title if there is one           and add it to the string for tracking        pagetracker. trackpageview   documents   + href                           script    div id  regwindow  style  border top  solid  px  cccccc position absolute background color  ffffff cursor hand left  px top  px display none z index         onmousedown  initializedrag event   onmouseup  stopdrag    onselectstart  return false      div class  shadowbox       div class  shadowcontent        div id  regwindowcontent  style  border bottom  solid  px  cccccc  border right  solid  px  cccccc  border left  solid  px  cccccc z index        height              iframe id  regwindowcframe  src    width      height      scrolling no frameborder     iframe        div       div      div     div    div id  askuswindow  style  border top  solid  px  cccccc position absolute background color  ffffff cursor hand left  px top  px display none z index        onmousedown  initializedrag event   onmouseup  stopdrag    onselectstart  return false      div class  shadowbox       div class  shadowcontent        div id  askuswindowcontent  style  border bottom  solid  px  cccccc  border right  solid  px  cccccc  border left  solid  px  cccccc z index               iframe id  askuswindowcframe  src    width      height      scrolling no frameborder     iframe        div       div      div     div       center     body     html '"
      ]
     },
     "execution_count": 297,
     "metadata": {},
     "output_type": "execute_result"
    }
   ],
   "source": [
    "source_text = re.sub(\"[^a-z.+3]\",\" \", source.lower())\n",
    "source_text"
   ]
  },
  {
   "cell_type": "code",
   "execution_count": 298,
   "metadata": {
    "collapsed": false,
    "slideshow": {
     "slide_type": "slide"
    }
   },
   "outputs": [
    {
     "name": "stdout",
     "output_type": "stream",
     "text": [
      "{'spark': 31, 'mapreduce': 16}\n"
     ]
    }
   ],
   "source": [
    "print skill_set"
   ]
  },
  {
   "cell_type": "code",
   "execution_count": 282,
   "metadata": {
    "collapsed": false,
    "slideshow": {
     "slide_type": "slide"
    }
   },
   "outputs": [
    {
     "data": {
      "image/png": "[encoded data removed]",
      "text/plain": [
       "<matplotlib.figure.Figure at 0x10e8ce490>"
      ]
     },
     "metadata": {},
     "output_type": "display_data"
    }
   ],
   "source": [
    "pseries = pd.Series(skill_set)\n",
    "pseries.sort(ascending=False)\n",
    "\n",
    "pseries.plot(kind = 'bar')\n",
    "## set the title to Score Comparison\n",
    "plt.title('Data Science Skills')\n",
    "## set the x label\n",
    "plt.xlabel('Skills')\n",
    "## set the y label\n",
    "plt.ylabel('Count')\n",
    "## show the plot\n",
    "plt.show()"
   ]
  },
  {
   "cell_type": "markdown",
   "metadata": {
    "slideshow": {
     "slide_type": "slide"
    }
   },
   "source": [
    "Another Example\n",
    "================\n",
    "\n",
    "Designed by Katharine Jarmul\n",
    "----------------------------\n",
    "\n",
    "https://github.com/kjam/python-web-scraping-tutorial\n",
    "\n",
    "\n"
   ]
  },
  {
   "cell_type": "markdown",
   "metadata": {
    "slideshow": {
     "slide_type": "slide"
    }
   },
   "source": [
    "Scraping Happy Hours\n",
    "====================\n",
    "\n",
    "Scrape the happy hour list of LA for personal preferences\n",
    "\n",
    "http://www.downtownla.com/3_10_happyHours.asp?action=ALL\n",
    "\n",
    "This example is part of her talk about data scraping at PyCon2014. She is a really good speaker and I enjoyed watching her talk. Check it out: http://www.youtube.com/watch?v=p1iX0uxM1w8"
   ]
  },
  {
   "cell_type": "code",
   "execution_count": 283,
   "metadata": {
    "collapsed": false,
    "slideshow": {
     "slide_type": "slide"
    }
   },
   "outputs": [],
   "source": [
    "stuff_i_like = ['burger', 'sushi', 'sweet potato fries', 'BBQ','beer']\n",
    "found_happy_hours = []\n",
    "my_happy_hours = []\n",
    "# First, I'm going to identify the areas of the page I want to look at\n",
    "url = 'http://www.downtownla.com/3_10_happyHours.asp?action=ALL'\n",
    "source = urllib2.urlopen(url).read()\n",
    "tables = bs4.BeautifulSoup(source)"
   ]
  },
  {
   "cell_type": "code",
   "execution_count": 284,
   "metadata": {
    "collapsed": false,
    "slideshow": {
     "slide_type": "slide"
    }
   },
   "outputs": [
    {
     "name": "stdout",
     "output_type": "stream",
     "text": [
      "The scraper found 73 happy hours!\n"
     ]
    }
   ],
   "source": [
    "# Then, I'm going to sort out the *exact* parts of the page\n",
    "# that match what I'm looking for...\n",
    "for t in tables.findAll('p', {'class': 'calendar_EventTitle'}):\n",
    "    text = t.text\n",
    "    for s in t.findNextSiblings():\n",
    "        text += '\\n' + s.text\n",
    "    found_happy_hours.append(text)\n",
    "\n",
    "print \"The scraper found %d happy hours!\" % len(found_happy_hours)"
   ]
  },
  {
   "cell_type": "code",
   "execution_count": 285,
   "metadata": {
    "collapsed": false,
    "slideshow": {
     "slide_type": "slide"
    }
   },
   "outputs": [
    {
     "name": "stdout",
     "output_type": "stream",
     "text": [
      "YAY! I found some burger!\n",
      "YAY! I found some sushi!\n",
      "YAY! I found some sushi!\n",
      "YAY! I found some sushi!\n",
      "YAY! I found some BBQ!\n",
      "YAY! I found some beer!\n",
      "YAY! I found some beer!\n",
      "YAY! I found some beer!\n",
      "YAY! I found some beer!\n",
      "YAY! I found some beer!\n",
      "YAY! I found some beer!\n",
      "YAY! I found some beer!\n",
      "YAY! I found some beer!\n",
      "YAY! I found some beer!\n",
      "YAY! I found some beer!\n",
      "YAY! I found some beer!\n",
      "YAY! I found some beer!\n",
      "YAY! I found some beer!\n",
      "YAY! I found some beer!\n",
      "YAY! I found some beer!\n",
      "YAY! I found some beer!\n",
      "YAY! I found some beer!\n",
      "I think you might like 22 of them, yipeeeee!\n"
     ]
    }
   ],
   "source": [
    "# Now I'm going to loop through the food I like\n",
    "# and see if any of the happy hour descriptions match\n",
    "for food in stuff_i_like:\n",
    "    for hh in found_happy_hours:\n",
    "        # checking for text AND making sure I don't have duplicates\n",
    "        if food in hh and hh not in my_happy_hours:\n",
    "            print \"YAY! I found some %s!\" % food\n",
    "            my_happy_hours.append(hh)\n",
    "\n",
    "print \"I think you might like %d of them, yipeeeee!\" % len(my_happy_hours)"
   ]
  },
  {
   "cell_type": "code",
   "execution_count": 286,
   "metadata": {
    "collapsed": false,
    "slideshow": {
     "slide_type": "slide"
    }
   },
   "outputs": [],
   "source": [
    "# Now, let's make a mail message we can read:\n",
    "message = 'Hey Katharine,\\n\\n\\n'\n",
    "message += 'OMG, I found some stuff for you in Downtown, take a look.\\n\\n'\n",
    "message += '==============================\\n'.join(my_happy_hours)\n",
    "message = message.encode('utf-8')\n",
    "# To read more about encoding:\n",
    "# http://diveintopython.org/xml_processing/unicode.html\n",
    "message = message.replace('\\t', '').replace('\\r', '')\n",
    "message += '\\n\\nXOXO,\\n Your Py Script'\n",
    "\n",
    "#print message"
   ]
  },
  {
   "cell_type": "markdown",
   "metadata": {
    "slideshow": {
     "slide_type": "slide"
    }
   },
   "source": [
    "Getting Data with an API\n",
    "=========================\n",
    "\n",
    "* API: application programming interface\n",
    "* some sites try to make your life easier\n",
    "* Twitter, New York Times, ImDB, rotten Tomatoes, Yelp, ..."
   ]
  },
  {
   "cell_type": "markdown",
   "metadata": {
    "slideshow": {
     "slide_type": "slide"
    }
   },
   "source": [
    "Rotten Tomatoes\n",
    "===============\n",
    "\n",
    "![The Wizard of Oz](images/wiz_oz.png \"The wizard of Oz\")\n",
    "\n",
    "http://www.rottentomatoes.com/top/\n"
   ]
  },
  {
   "cell_type": "markdown",
   "metadata": {
    "slideshow": {
     "slide_type": "slide"
    }
   },
   "source": [
    "API keys\n",
    "=========\n",
    "\n",
    "* required for data access\n",
    "* identifies application (you)\n",
    "* monitors usage\n",
    "* limits rates"
   ]
  },
  {
   "cell_type": "markdown",
   "metadata": {
    "slideshow": {
     "slide_type": "slide"
    }
   },
   "source": [
    "Rotten Tomatoes Key\n",
    "===================\n",
    "\n",
    "http://developer.rottentomatoes.com/member/register"
   ]
  },
  {
   "cell_type": "code",
   "execution_count": 287,
   "metadata": {
    "collapsed": false
   },
   "outputs": [
    {
     "ename": "NameError",
     "evalue": "name 'rottenTomatoes_key' is not defined",
     "output_type": "error",
     "traceback": [
      "\u001b[0;31m---------------------------------------------------------------------------\u001b[0m",
      "\u001b[0;31mNameError\u001b[0m                                 Traceback (most recent call last)",
      "\u001b[0;32m<ipython-input-287-de1794d1cf62>\u001b[0m in \u001b[0;36m<module>\u001b[0;34m()\u001b[0m\n\u001b[1;32m      2\u001b[0m \u001b[0;32mimport\u001b[0m \u001b[0mrequests\u001b[0m\u001b[0;34m\u001b[0m\u001b[0m\n\u001b[1;32m      3\u001b[0m \u001b[0;34m\u001b[0m\u001b[0m\n\u001b[0;32m----> 4\u001b[0;31m \u001b[0mapi_key\u001b[0m \u001b[0;34m=\u001b[0m \u001b[0mrottenTomatoes_key\u001b[0m\u001b[0;34m(\u001b[0m\u001b[0;34m)\u001b[0m\u001b[0;34m\u001b[0m\u001b[0m\n\u001b[0m\u001b[1;32m      5\u001b[0m \u001b[0;34m\u001b[0m\u001b[0m\n\u001b[1;32m      6\u001b[0m \u001b[0murl\u001b[0m \u001b[0;34m=\u001b[0m \u001b[0;34m'http://api.rottentomatoes.com/api/public/v1.0/lists/dvds/top_rentals.json?apikey='\u001b[0m \u001b[0;34m+\u001b[0m \u001b[0mapi_key\u001b[0m\u001b[0;34m\u001b[0m\u001b[0m\n",
      "\u001b[0;31mNameError\u001b[0m: name 'rottenTomatoes_key' is not defined"
     ]
    }
   ],
   "source": [
    "import json\n",
    "import requests\n",
    "\n",
    "api_key = rottenTomatoes_key()\n",
    "\n",
    "url = 'http://api.rottentomatoes.com/api/public/v1.0/lists/dvds/top_rentals.json?apikey=' + api_key\n",
    "data = urllib2.urlopen(url).read()\n",
    "#print data"
   ]
  },
  {
   "cell_type": "markdown",
   "metadata": {
    "slideshow": {
     "slide_type": "slide"
    }
   },
   "source": [
    "JSON\n",
    "======\n",
    "\n",
    "* JavaScript Object Notation\n",
    "* human readable\n",
    "* transmit attribute-value pairs"
   ]
  },
  {
   "cell_type": "code",
   "execution_count": null,
   "metadata": {
    "collapsed": false,
    "slideshow": {
     "slide_type": "slide"
    }
   },
   "outputs": [],
   "source": [
    "a = {'a': 1, 'b':2}\n",
    "s = json.dumps(a)\n",
    "a2 = json.loads(s)\n",
    "\n",
    "## a is a dictionary\n",
    "print a\n",
    "## vs s is a string containing a in JSON encoding\n",
    "print s\n",
    "## reading back the keys are now in unicode\n",
    "print a2"
   ]
  },
  {
   "cell_type": "code",
   "execution_count": null,
   "metadata": {
    "collapsed": false,
    "slideshow": {
     "slide_type": "slide"
    }
   },
   "outputs": [],
   "source": [
    "## create dictionary from JSON \n",
    "dataDict = json.loads(data)\n",
    "\n",
    "## expore dictionary\n",
    "print dataDict.keys()\n",
    "\n",
    "## there is a key named `movies` containing a list of movies as a value\n",
    "movies = dataDict['movies']\n",
    "\n",
    "## each element of the list `movies` is a dictionary\n",
    "print movies[0].keys()\n",
    "\n",
    "## one of the keys is called `ratings`\n",
    "## the value is yet another dictionary\n",
    "print movies[0]['ratings'].keys()\n",
    "\n",
    "## so we made it all the way to find the critics score\n",
    "print movies[0]['ratings']['critics_score']\n"
   ]
  },
  {
   "cell_type": "markdown",
   "metadata": {
    "slideshow": {
     "slide_type": "slide"
    }
   },
   "source": [
    "Quiz\n",
    "=====\n",
    "\n",
    "* build a list with critics scores\n",
    "* build a list with audience scores"
   ]
  },
  {
   "cell_type": "code",
   "execution_count": null,
   "metadata": {
    "collapsed": false,
    "slideshow": {
     "slide_type": "slide"
    }
   },
   "outputs": [],
   "source": [
    "# critics scores list\n",
    "\n",
    "\n",
    "# audience scores list\n"
   ]
  },
  {
   "cell_type": "markdown",
   "metadata": {
    "slideshow": {
     "slide_type": "skip"
    }
   },
   "source": [
    "The following code shows how to create a pandas data frame with the data we gathered from the webpage.\n",
    "Beware of the `set_index()` function in pandas. Per default it does not change the actual data frame! You need to either reassign the output or set the `inplace` argument to `True`."
   ]
  },
  {
   "cell_type": "code",
   "execution_count": null,
   "metadata": {
    "collapsed": false,
    "slideshow": {
     "slide_type": "slide"
    }
   },
   "outputs": [],
   "source": [
    "## create pandas data frame with critics and audience score\n",
    "scores = pd.DataFrame(data=[critics_scores, audience_scores]).transpose()\n",
    "scores.columns = ['critics', 'audience']\n",
    "\n",
    "## also create a list with all movie titles\n",
    "movie_titles = [m['title'] for m in movies]\n",
    "\n",
    "## set index of dataFrame BEWARE of inplace!\n",
    "scores.set_index([movie_titles])\n",
    "\n",
    "## the line above does not changes scores!\n",
    "## You need to either reassign\n",
    "\n",
    "scores = scores.set_index([movie_titles])\n",
    "\n",
    "## or set the inplace argument to True\n",
    "scores.set_index([movie_titles], inplace=True)\n",
    "scores.head(3)"
   ]
  },
  {
   "cell_type": "code",
   "execution_count": null,
   "metadata": {
    "collapsed": false,
    "slideshow": {
     "slide_type": "slide"
    }
   },
   "outputs": [],
   "source": [
    "## create a bar plot with the data\n",
    "## notice that we are using the data frame itself and call its plot function\n",
    "scores.plot(kind = 'bar')\n",
    "\n",
    "## set the title to Score Comparison\n",
    "plt.title('Score Comparison')\n",
    "\n",
    "## set the x label\n",
    "plt.xlabel('Movies')\n",
    "\n",
    "## set the y label\n",
    "plt.ylabel('Scores')"
   ]
  },
  {
   "cell_type": "code",
   "execution_count": null,
   "metadata": {
    "collapsed": false,
    "slideshow": {
     "slide_type": "slide"
    }
   },
   "outputs": [],
   "source": [
    "## show the plot\n",
    "plt.show()"
   ]
  },
  {
   "cell_type": "markdown",
   "metadata": {
    "slideshow": {
     "slide_type": "slide"
    }
   },
   "source": [
    "Twitter Example:\n",
    "================\n",
    "\n",
    "* API a bit more complicated\n",
    "* libraries make life easier\n",
    "* python-twitter\n",
    "\n",
    "https://github.com/bear/python-twitter\n",
    "\n",
    "What we are going to do is scrape Joe's twitter account, and then filter it for the interesting tweets. Defining interesting as tweets that have be re-tweeted at least 10 times. \n"
   ]
  },
  {
   "cell_type": "code",
   "execution_count": null,
   "metadata": {
    "collapsed": false,
    "slideshow": {
     "slide_type": "slide"
    }
   },
   "outputs": [],
   "source": [
    "import twitter\n",
    "\n",
    "## define the necessary keys\n",
    "cKey = twitterAPI_key()\n",
    "cSecret = twitterAPI_secret()\n",
    "aKey = twitterAPI_access_token_key()\n",
    "aSecret = twitterAPI_access_token_secret()\n",
    "\n",
    "## create the api object with the twitter-python library\n",
    "api = twitter.Api(consumer_key=cKey, consumer_secret=cSecret, access_token_key=aKey, access_token_secret=aSecret)\n"
   ]
  },
  {
   "cell_type": "code",
   "execution_count": null,
   "metadata": {
    "collapsed": false,
    "slideshow": {
     "slide_type": "slide"
    }
   },
   "outputs": [],
   "source": [
    "## get the user timeline with screen_name = 'stat110'\n",
    "twitter_statuses = api.GetUserTimeline(screen_name = 'stat110')\n",
    "\n",
    "## create a data frame\n",
    "## first get a list of panda Series or dict\n",
    "pdSeriesList = [pd.Series(t.AsDict()) for t in twitter_statuses]\n",
    "\n",
    "## then create the data frame\n",
    "data = pd.DataFrame(pdSeriesList)\n",
    "\n",
    "data.head(2)"
   ]
  },
  {
   "cell_type": "code",
   "execution_count": null,
   "metadata": {
    "collapsed": false,
    "slideshow": {
     "slide_type": "slide"
    }
   },
   "outputs": [],
   "source": [
    "## filter tweets with enough retweet_count\n",
    "maybe_interesting = data[data.retweet_count>20]\n",
    "\n",
    "## get the text of these tweets\n",
    "tweet_text = maybe_interesting.text\n",
    "\n",
    "## print them out\n",
    "text = tweet_text.values\n",
    "\n",
    "for t in text:\n",
    "    print '######'\n",
    "    print t"
   ]
  },
  {
   "cell_type": "markdown",
   "metadata": {
    "slideshow": {
     "slide_type": "skip"
    }
   },
   "source": [
    "Extracting columns:\n",
    "===================\n",
    "\n",
    "__Warning:__ The returned column `tweet_text` is a `view` on the data\n",
    "    \n",
    "* it is not a copy\n",
    "* you change the Series => you change the DataFrame\n",
    "\n",
    "Below is another example of such a view:"
   ]
  },
  {
   "cell_type": "code",
   "execution_count": null,
   "metadata": {
    "collapsed": false,
    "slideshow": {
     "slide_type": "skip"
    }
   },
   "outputs": [],
   "source": [
    "## create a view for favorite_count on maybe_interesting\n",
    "view = maybe_interesting['favorite_count']\n",
    "print '-----------------'\n",
    "print \"This is view:\"\n",
    "print view\n",
    "## change a value\n",
    "view[8] = 9999\n",
    "\n",
    "## look at original frame\n",
    "print '-----------------'\n",
    "print \"This is view after changing view[8]\"\n",
    "print view\n",
    "\n",
    "print '-----------------'\n",
    "print \"This is maybe_interesting after changing view[8]\"\n",
    "print \"It changed too!\"\n",
    "print maybe_interesting['favorite_count']\n",
    "\n",
    "## to avoid this you can use copy\n",
    "independent_data = maybe_interesting['favorite_count'].copy()\n",
    "independent_data[10] = 999\n",
    "print '-----------------'\n",
    "print \"This is independent_data after changed at 10:\"\n",
    "print independent_data\n",
    "print '-----------------'\n",
    "print \"This is maybe_interesting after changing independent_data:\"\n",
    "print \"It did not change because we only changed a copy of it\"\n",
    "print maybe_interesting['favorite_count']"
   ]
  },
  {
   "cell_type": "markdown",
   "metadata": {
    "collapsed": true,
    "slideshow": {
     "slide_type": "slide"
    }
   },
   "source": [
    "What we covered today:\n",
    "============\n",
    "\n",
    "* Pandas data frames\n",
    "* Guidelines for friendly scraping\n",
    "* Scraping html sites\n",
    "* Scraping with Api's\n",
    "* Basic data cleanup\n"
   ]
  },
  {
   "cell_type": "markdown",
   "metadata": {
    "slideshow": {
     "slide_type": "slide"
    }
   },
   "source": [
    "Further material\n",
    "================\n",
    "\n",
    "* I highly recommend Katharine Jarmul's scraping tutorials\n",
    "* For example [this one](https://www.youtube.com/watch?v=p1iX0uxM1w8)\n",
    "* Pandas has extensive [documentation](http://pandas.pydata.org/pandas-docs/stable/)\n",
    "* Especially the [tem minutes to pandas chapter](http://pandas.pydata.org/pandas-docs/stable/10min.html)\n",
    "\n",
    "* [Greg Reda](http://www.gregreda.com/2013/10/26/using-pandas-on-the-movielens-dataset/) did a lot more pandas examples for the movie lens data set"
   ]
  }
 ],
 "metadata": {
  "celltoolbar": "Slideshow",
  "kernelspec": {
   "display_name": "Python 2",
   "language": "python",
   "name": "python2"
  },
  "language_info": {
   "codemirror_mode": {
    "name": "ipython",
    "version": 2
   },
   "file_extension": ".py",
   "mimetype": "text/x-python",
   "name": "python",
   "nbconvert_exporter": "python",
   "pygments_lexer": "ipython2",
   "version": "2.7.10"
  }
 },
 "nbformat": 4,
 "nbformat_minor": 0
}
